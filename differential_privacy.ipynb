{
  "cells": [
    {
      "cell_type": "markdown",
      "metadata": {
        "id": "hk-PC5j2saFB"
      },
      "source": [
        "# Differential Privacy\n",
        "\n",
        "Among the numerous definition of private data analysis,\n",
        "differential privacy has become the dominant standard by providing a formal and adaptive conception of safe data-analysis. First introduced by Dwork et al. in [1], and further detailed in [2]. It states that an algorithm is  differentially private if, given two **close** databases, it produces statistically indistinguishable outputs.\n",
        "Formally, a randomized algorithm $\\mathcal{A}$ is $\\epsilon$-differentially private if for any output $Z$ and for any two close databases $X$ and $X'$, $$\\mathbb{P}[\\mathcal{A}(X) \\in Z] \\leq e^{\\epsilon}\\mathbb{P}\\left[\\mathcal{A}(X') \\in Z\\right]. \\text{   } (1)$$\n",
        "Where the probability space is over the coin flips of $\\mathcal{A}$.\n",
        "\n",
        "Here, $\\mathbb{P}[\\mathcal{A}(X) \\in Z]$ is the probability of a\n",
        "randomized function $\\mathcal{A}$ to ouput a value in $Z$ when evaluating\n",
        "it on a given dataset $X$. The right side is identical to the left except\n",
        "that the function is now evaluated on a dataset $X'$ that differs from $X$\n",
        "in at most one element (hence the notion of **closness**). And finally, $\\epsilon$ is a parameter that describes\n",
        "how much information is leaked by the function.\n",
        "\n",
        "Sounds pretty abstract, so let's work out a simple example: Let's assume we want to build a differentially private dataset from the adult data that we've looked at in the first session. The goal here is to protect an adversary from gaining too much information about the sensitive attribute (income > 50k or not) when adding that Alice's data to the dataset. With differential privacy, we look at the state of the dataset before and after Alice was added and quantify the privacy loss as given by equation (1). Let us suppose that $\\mathcal{A}$ outputs the total number of persons with income > 50k in deterministic fashion. Then by simply comparing the output value of $\\mathcal{A}$ before and after the adding Alice to the dataset, we can infer with certainty what kind of income Alice has. This highlights the fact that any deterministic analysis of a dataset represents a security breach, this is why the curator is needed to input some kind of randomness that will help preserving privacy.\n",
        "\n",
        "Let us now investigate a simple randomization trick called **randomized response**. It works as follows:\n",
        "\n",
        "* With probability $1-p$, we add a Alice's true income value to the database.\n",
        "* With probability $p$ we choose a random boolean (0/1) value from a distribution returning $0$ with probability $q$ and $1$ with probability $1-q$ and add that value to the database instead.\n",
        "\n",
        "**We denote 0/1 for generality, but for our application 1 means \"income > 50k\" and 0 means \"income =< 50k\"**\n",
        "\n",
        "Using this scheme, an attacker cannot know with certainty if the real attribute value of Alice or a random one was added to the database. This protects the privacy of Alice but of course it also adds noise to the database, making it more difficult to use for legitimate users as well. In practice, we therefore always need to weigh privacy against utility when employing differential privacy. In this notebook, we will calculate the $\\epsilon$ and other relevant parameters for our scheme above and see how we can use this differentially private data to make predictions about the \n",
        "income distribution of the people in our dataset.\n",
        "\n",
        "* [1] [Differential privacy](https://www.microsoft.com/en-us/research/publication/differential-privacy/)\n",
        "* [2] [The Algorithmic Foundations of Differential Privacy](https://www.cis.upenn.edu/~aaroth/Papers/privacybook.pdf)\n",
        "\n",
        "\n",
        "## Calculating $\\epsilon$\n",
        "\n",
        "In our differentially private scheme, the probability of adding the true attribute value to the database is $1-p$. The probability of adding a random value is therefore $p$ and the probability of that value being $0$ is $q$. So how can we relate this to eq. (1)? Well, we can set $X$ and $X'$ as the versions of our database **before** and **after** adding Alice's data to it. Let's say that before adding Alice there are $k$ $1$'s in the database. We can then use a query $\\mathcal{A}$ that returns the number of $1$'s in the database and choose our result set as $Z = \\{n\\}$. Before adding Alice to the database, $\\mathcal{A}(X)=k$ with certainty, hence $\\mathbb{P}(\\mathcal{A}(X) = k)=1$. After adding Alice's data, the probability that the query result is still $k$ can be calculated as follows, depending on the Alice's attribute value:\n",
        "\n",
        "* If Alice's attribute value is $0$, the probability that $\\mathcal{A}$ is unchanged after adding the data to the database is given as $1-p+p\\cdot q$.\n",
        "* If a Alice's attribute value is $1$, the probability that $\\mathcal{A}$ is unchanged after adding the data to the database is given as $p\\cdot q$.\n",
        "\n",
        "We therefore have the two equations\n",
        "\n",
        "$$\n",
        "\\begin{eqnarray}\n",
        "\\mathbb{P}[\\mathcal{A}(X) \\in Z | x_i=1] & = & 1 \\le \\exp{\\epsilon}\\cdot \\mathbb{P}[\\mathcal{\n",
        "A}(X') \\in Z | x_i=1] = \\exp{\\epsilon}\\cdot p \\cdot q \\\\\n",
        "\\mathbb{P}[\\mathcal{A}(X) \\in Z | x_i=0] & = & 1 \\le \\exp{\\epsilon}\\cdot \\mathbb{P}[\\mathcal{A}(X') \\in Z | x_i=0] = \\exp{\\epsilon}\\cdot (1-p+p \\cdot q) \\\\\n",
        "\\end{eqnarray}\n",
        "$$\n",
        "\n",
        "This leads to\n",
        "\n",
        "$$\n",
        "\\begin{eqnarray}\n",
        " \\epsilon & \\ge & -\\ln{\\left(p \\cdot q\\right)} \\\\\n",
        " \\epsilon & \\ge & -\\ln{\\left(1-p+p\\cdot q\\right)} \\\\\n",
        "\\end{eqnarray}\n",
        "$$\n",
        "\n",
        "Since we're interested in an upper bound for $\\epsilon$ and since $-\\ln{\\left(1-p+p\\cdot q\\right)} \\le -\\ln{p\\cdot q}$, we get\n",
        "\n",
        "$$\n",
        "\\begin{equation}\n",
        "\\epsilon = -\\ln{\\left(p\\cdot q\\right)}\n",
        "\\end{equation}\n",
        "$$\n",
        "\n",
        "\n",
        "## Exercise \n",
        "\n",
        "* To your point of view, what value of $\\epsilon$ represent a good enough uncertainty for the adversary? \n",
        "* How does the level of privacy evolve when $\\epsilon$ gets bigger/smaller? \n",
        "* Same question for the accuracy of $\\mathcal{A}$."
      ]
    },
    {
      "cell_type": "markdown",
      "metadata": {
        "id": "vdw5XGB3saFF"
      },
      "source": [
        "**\n",
        "\n",
        "- Plus  ϵ  est petit, plus les données sont anonymes.\n",
        "\n",
        "- si pq est proche de 0, € tend vers l'infini\n",
        "\n",
        "- si p=0, on ne change pas la valeur de départ.\n",
        "\n",
        "- si p=0,5 et q=0.5  ϵ =-ln(0.5x0.5)=1.38\n",
        "\n",
        "- si  ϵ  augmente, la privacy diminue\n",
        "\n",
        "si  ϵ  augmente, la précision de A augmente\n",
        "\n",
        "Si on reprend la définition \"It states that an algorithm is differentially private if, given two close databases, it produces statistically indistinguishable outputs.\" \n",
        "Il faut donc qu'epsilon soit le plus petit possible, donc que p.q tende vers 1 ( et non vers 0, puisqu'on a un ln) \n",
        "En concllusion: Plus epsilon grandit moins les données sont privées. **texte en gras**"
      ]
    },
    {
      "cell_type": "markdown",
      "metadata": {
        "id": "WGc0tQuBsaFF"
      },
      "source": [
        "## Exercise\n",
        "\n",
        "**Write a function that returns the value of epsilon for a given $p$ and $q$.**"
      ]
    },
    {
      "cell_type": "code",
      "execution_count": 11,
      "metadata": {
        "colab": {
          "base_uri": "https://localhost:8080/"
        },
        "id": "y_V7YKYRsaFG",
        "outputId": "d9e0862a-5611-46df-9d67-fa95faf87bde"
      },
      "outputs": [
        {
          "name": "stdout",
          "output_type": "stream",
          "text": [
            "1.3862943611198906\n"
          ]
        }
      ],
      "source": [
        "import numpy as np\n",
        "\n",
        "def epsilon(p, q):\n",
        "    \"\"\"\n",
        "    :param p: The probability of returning a random value instead of the true one\n",
        "    :param q: The probability of returning 1 when generating a random value\n",
        "    :returns: The epsilon for the given values of p, q\n",
        "    \"\"\"\n",
        "    return -np.log(p*q)\n",
        "\n",
        "print(epsilon(0.5,0.5))"
      ]
    },
    {
      "cell_type": "markdown",
      "metadata": {
        "id": "SipJjIyIsaFG"
      },
      "source": [
        "## Exercise\n",
        "\n",
        "**Plot $\\epsilon$ for various values of $p$ and $q$. Analyze.**"
      ]
    },
    {
      "cell_type": "code",
      "execution_count": 12,
      "metadata": {
        "colab": {
          "base_uri": "https://localhost:8080/",
          "height": 331
        },
        "id": "TQ7CgEyfsaFH",
        "outputId": "98fed8c4-d110-4001-e471-0ff61c5f8df2"
      },
      "outputs": [
        {
          "name": "stderr",
          "output_type": "stream",
          "text": [
            "/usr/local/lib/python3.7/dist-packages/ipykernel_launcher.py:9: RuntimeWarning: divide by zero encountered in log\n",
            "  if __name__ == '__main__':\n"
          ]
        },
        {
          "data": {
            "text/plain": [
              "[<matplotlib.lines.Line2D at 0x7f298ea99d10>]"
            ]
          },
          "execution_count": 12,
          "metadata": {},
          "output_type": "execute_result"
        },
        {
          "data": {
            "image/png": "[encoded data removed]",
            "text/plain": [
              "<Figure size 432x288 with 1 Axes>"
            ]
          },
          "metadata": {
            "needs_background": "light"
          },
          "output_type": "display_data"
        }
      ],
      "source": [
        "import matplotlib.pyplot as plt\n",
        "p=np.linspace(0,1,10)\n",
        "q=np.linspace(0,1,10)\n",
        "X=p*q\n",
        "Y=epsilon(p,q)\n",
        "plt.figure()\n",
        "plt.xlabel('pq')\n",
        "plt.ylabel('$\\epsilon$')\n",
        "\n",
        "plt.plot(X,Y, label='courbe epsilon ')\n"
      ]
    },
    {
      "cell_type": "markdown",
      "metadata": {
        "id": "SuXihD0_saFH"
      },
      "source": [
        "# A Different Scheme\n",
        "\n",
        "Let's assume we propose the following anonymization scheme for our dataset:\n",
        "\n",
        "* With probability $1-p$, we add a person's true attribute value to the database\n",
        "* With probability $p$, we do not add anything to the database\n",
        "\n",
        "## Exercise\n",
        "\n",
        "Can you calculate the $\\epsilon$ of this scheme? Which scheme do you prefer, and why? Does this scheme always provide \"plausible deniability\"?\n"
      ]
    },
    {
      "cell_type": "markdown",
      "metadata": {
        "id": "snpp1_nCsaFH"
      },
      "source": [
        "Il en reésulte que\n",
        "ϵ  = -ln (p) **texte en gras**\n",
        "\n",
        "En se référant aux deux courbes ci-dessous, on constate que le second schéma (rouge) a toujours un  ϵ  plus grand donc avec une privacy ) moindre\n"
      ]
    },
    {
      "cell_type": "code",
      "execution_count": null,
      "metadata": {
        "colab": {
          "base_uri": "https://localhost:8080/",
          "height": 386
        },
        "id": "ATprifRv6ym5",
        "outputId": "51c53c56-c3ea-4be1-9349-8410d45e19dc"
      },
      "outputs": [
        {
          "name": "stderr",
          "output_type": "stream",
          "text": [
            "/usr/local/lib/python3.7/dist-packages/ipykernel_launcher.py:2: RuntimeWarning: divide by zero encountered in log\n",
            "  \n",
            "/usr/local/lib/python3.7/dist-packages/ipykernel_launcher.py:9: RuntimeWarning: divide by zero encountered in log\n",
            "  if __name__ == '__main__':\n"
          ]
        },
        {
          "data": {
            "text/plain": [
              "<matplotlib.legend.Legend at 0x7ff3d57ed250>"
            ]
          },
          "execution_count": 8,
          "metadata": {},
          "output_type": "execute_result"
        },
        {
          "data": {
            "image/png": "[encoded data removed]",
            "text/plain": [
              "<Figure size 432x288 with 1 Axes>"
            ]
          },
          "metadata": {
            "needs_background": "light"
          },
          "output_type": "display_data"
        }
      ],
      "source": [
        "p=np.linspace(0,1,10)\n",
        "Y=-np.log(p)\n",
        "plt.figure()\n",
        "plt.xlabel('p')\n",
        "plt.ylabel('$\\epsilon$')\n",
        "\n",
        "p=np.linspace(0,1,10)\n",
        "q=np.linspace(0,1,10)\n",
        "X=p*q\n",
        "Y=epsilon(p,q)\n",
        "\n",
        "plt.xlabel('pq')\n",
        "plt.ylabel('$\\epsilon$')\n",
        "\n",
        "plt.plot(X,Y, c='blue', label='courbe epsilon avec p et q ')\n",
        "plt.plot(p,Y, c='red',label='courbe epsilon avec p seulement')\n",
        "plt.legend()"
      ]
    },
    {
      "cell_type": "markdown",
      "metadata": {
        "id": "jAwYtowosaFH"
      },
      "source": [
        "## What does this tell us?\n",
        "\n",
        "Calculating the $\\epsilon$ is great, but what does it actually tell us about the privacy loss or risk for our use case? Let's assume an adversary want to learn about the real value of a person's attribute. If she knows the model used for generating the data, she could then use Bayesian reasoning to calculate the probability of a person's attribute being $1$ given the observed difference in the database, which we denote $\\Delta = \\mathcal{A}(X') - \\mathcal{A}(X)$. Using Bayes theorem we can calculate this as (for $\\Delta = 1$ here)\n",
        "\n",
        "$$\n",
        "\\begin{equation}\n",
        "    P(x_i=1 | \\Delta = 1) = P(\\Delta = 1| x_i = 1)\\cdot \\frac{P(x_i=1)}{P(\\Delta=1)}\n",
        "\\end{equation}\n",
        "$$\n",
        "\n",
        "For our scheme, we know that \n",
        "\n",
        "$$\n",
        "\\begin{equation}\n",
        "    P(\\Delta = 1 | x_i = \\mathrm{1}) = 1-pq\n",
        "\\end{equation}\n",
        "$$\n",
        "\n",
        "and\n",
        "\n",
        "$$\n",
        "\\begin{equation}\n",
        "    P(\\Delta = 1) = (1-p)\\cdot P(x_i = \\mathrm{1}) + p\\cdot(1-q)\n",
        "\\end{equation}\n",
        "$$\n",
        "\n",
        "so we obtain\n",
        "\n",
        "$$\n",
        "\\begin{equation}\n",
        "    P(x_i=1 | \\Delta = 1) = \\frac{(1-pq)\\cdot P(x_i = \\mathrm{1})}{(1-p)\\cdot P(x_i = \\mathrm{1})+p\\cdot(1-q)}\n",
        "\\end{equation}\n",
        "$$\n",
        "\n",
        "Let's see how this relates to $\\epsilon$!"
      ]
    },
    {
      "cell_type": "markdown",
      "metadata": {
        "id": "X9as93p7saFH"
      },
      "source": [
        "## Exercise\n",
        "\n",
        "**Write a function that calculates the conditional probability as given in eq. (4).**"
      ]
    },
    {
      "cell_type": "code",
      "execution_count": 13,
      "metadata": {
        "colab": {
          "base_uri": "https://localhost:8080/"
        },
        "id": "gGoKLVPpsaFI",
        "outputId": "34c0e3e6-5777-49e2-b58b-1944eda20611"
      },
      "outputs": [
        {
          "name": "stdout",
          "output_type": "stream",
          "text": [
            "0.75\n"
          ]
        }
      ],
      "source": [
        "def p_cond(p, q, p_1):\n",
        "    \"\"\"\n",
        "    :param   p: The probability of returning a random value instead of the true one\n",
        "    :param   q: The probability of returning 1 when generating a random value\n",
        "    :param p_1: The probability of a person to have an attribute value x_i=1\n",
        "    \"\"\"\n",
        "    return ((1-p*q)*p_1)/((1-p)*p_1+p*(1-q))\n",
        "print(p_cond(0.5,0.5,0.5))"
      ]
    },
    {
      "cell_type": "markdown",
      "metadata": {
        "id": "NV3XeADosaFI"
      },
      "source": [
        "## Exercise\n",
        "\n",
        "**Choose a given q (e.g. 0.1) as well as a value for P(x_i=yes) and plot the conditional probability from eq. (4) as a function of p.**"
      ]
    },
    {
      "cell_type": "code",
      "execution_count": 14,
      "metadata": {
        "colab": {
          "base_uri": "https://localhost:8080/",
          "height": 296
        },
        "id": "8W65uDcwsaFI",
        "outputId": "0e6434d1-f2f8-4960-f54a-24a13d9b1854"
      },
      "outputs": [
        {
          "data": {
            "text/plain": [
              "[<matplotlib.lines.Line2D at 0x7f298e8609d0>]"
            ]
          },
          "execution_count": 14,
          "metadata": {},
          "output_type": "execute_result"
        },
        {
          "data": {
            "image/png": "[encoded data removed]",
            "text/plain": [
              "<Figure size 432x288 with 1 Axes>"
            ]
          },
          "metadata": {
            "needs_background": "light"
          },
          "output_type": "display_data"
        }
      ],
      "source": [
        "qx=0.1\n",
        "p_1=0.5\n",
        "p=np.linspace(0,1,10)\n",
        "Y=p_cond(p,qx,p_1)\n",
        "plt.figure()\n",
        "plt.xlabel('p')\n",
        "plt.ylabel('p_cond')\n",
        "\n",
        "plt.plot(p,Y, label='courbe proabablité conditionnelle')"
      ]
    },
    {
      "cell_type": "markdown",
      "metadata": {
        "id": "GvvKPOySsaFI"
      },
      "source": [
        "# Implementing It\n",
        "\n",
        "Now that we have a feeling for our scheme we can implement it! For that, we load the \"adult census\" data from the k-anonymity case study again."
      ]
    },
    {
      "cell_type": "code",
      "execution_count": 44,
      "metadata": {
        "id": "yVEGDrojsaFI"
      },
      "outputs": [],
      "source": [
        "import pandas as pd\n",
        "\n",
        "names = (\n",
        "    'age',\n",
        "    'workclass', #Private, Self-emp-not-inc, Self-emp-inc, Federal-gov, Local-gov, State-gov, Without-pay, Never-worked.\n",
        "    'fnlwgt', # \"weight\" of that person in the dataset (i.e. how many people does that person represent) -> https://www.kansascityfed.org/research/datamuseum/cps/coreinfo/keyconcepts/weights\n",
        "    'education',\n",
        "    'education-num',\n",
        "    'marital-status',\n",
        "    'occupation',\n",
        "    'relationship',\n",
        "    'race',\n",
        "    'sex',\n",
        "    'capital-gain',\n",
        "    'capital-loss',\n",
        "    'hours-per-week',\n",
        "    'native-country',\n",
        "    'income',\n",
        ")\n",
        "categorical = set((\n",
        "    'workclass',\n",
        "    'education',\n",
        "    'marital-status',\n",
        "    'occupation',\n",
        "    'relationship',\n",
        "    'sex',\n",
        "    'native-country',\n",
        "    'race',\n",
        "    'income',\n",
        "))\n",
        "df = pd.read_csv(\"adult.all.numerical.txt\", sep=\" \", header=None, names=names, index_col=False, engine='python');# We load the data using Pandas"
      ]
    },
    {
      "cell_type": "markdown",
      "metadata": {
        "id": "SpkNSj2BsaFJ"
      },
      "source": [
        "## Exercise\n",
        "\n",
        "**Implement a function that processes a new value according to the differentially private scheme discussed above.**"
      ]
    },
    {
      "cell_type": "code",
      "execution_count": 45,
      "metadata": {
        "id": "9cOkP_XYsaFJ"
      },
      "outputs": [],
      "source": [
        "def process_value(value, p, q):\n",
        "    \"\"\"\n",
        "    :param value: The value to apply the differentially private scheme to.\n",
        "    :param     p: The probability of returning a random value instead of the true one\n",
        "    :param     q: The probability of returning 1 when generating a random value\n",
        "    :    returns: A new, differentially private value\n",
        "    \"\"\"\n",
        "    valeur_aleatoire_1 = np.random.rand() # Valeur aléatoire avec une probabilité p pour simuler p\n",
        "    if p >= valeur_aleatoire_1:  # on est dans le cas RANDOM VALUE\n",
        "      valeur_aleatoire_2 = np.random.rand() # pour simuler q\n",
        "      if q >= valeur_aleatoire_2:\n",
        "        return 0\n",
        "      return 1  \n",
        "    else:\n",
        "      return value\n",
        "\n",
        "#import numpy as np\n",
        "#np.random.seed(123)\n",
        "\n",
        " #test 0 and 1\n",
        "#for i in range(25):\n",
        " # print(process_value(1, 0.8,0.3))"
      ]
    },
    {
      "cell_type": "markdown",
      "metadata": {
        "id": "n4-lT0otsaFJ"
      },
      "source": [
        "## Exercise\n",
        "\n",
        "**Now apply this method to the \"income\" column of the adult dataset to obtain a differentially private dataset e.g with p=q=0.5.**"
      ]
    },
    {
      "cell_type": "code",
      "execution_count": 46,
      "metadata": {
        "colab": {
          "base_uri": "https://localhost:8080/",
          "height": 300
        },
        "id": "0F8nf_pusaFJ",
        "outputId": "c6beab77-94f7-4d0e-8e6e-698f0bcd0b7a"
      },
      "outputs": [
        {
          "data": {
            "text/html": [
              "\n",
              "  <div id=\"df-451c6ce6-a7e5-4ee7-b11e-242845720324\">\n",
              "    <div class=\"colab-df-container\">\n",
              "      <div>\n",
              "<style scoped>\n",
              "    .dataframe tbody tr th:only-of-type {\n",
              "        vertical-align: middle;\n",
              "    }\n",
              "\n",
              "    .dataframe tbody tr th {\n",
              "        vertical-align: top;\n",
              "    }\n",
              "\n",
              "    .dataframe thead th {\n",
              "        text-align: right;\n",
              "    }\n",
              "</style>\n",
              "<table border=\"1\" class=\"dataframe\">\n",
              "  <thead>\n",
              "    <tr style=\"text-align: right;\">\n",
              "      <th></th>\n",
              "      <th>age</th>\n",
              "      <th>fnlwgt</th>\n",
              "      <th>education-num</th>\n",
              "      <th>capital-gain</th>\n",
              "      <th>capital-loss</th>\n",
              "      <th>hours-per-week</th>\n",
              "      <th>income</th>\n",
              "      <th>income_binaire</th>\n",
              "      <th>income_diff_private</th>\n",
              "    </tr>\n",
              "  </thead>\n",
              "  <tbody>\n",
              "    <tr>\n",
              "      <th>count</th>\n",
              "      <td>48841.000000</td>\n",
              "      <td>4.884100e+04</td>\n",
              "      <td>48841.000000</td>\n",
              "      <td>48841.000000</td>\n",
              "      <td>48841.000000</td>\n",
              "      <td>48841.000000</td>\n",
              "      <td>48841.000000</td>\n",
              "      <td>48841.0</td>\n",
              "      <td>48841.000000</td>\n",
              "    </tr>\n",
              "    <tr>\n",
              "      <th>mean</th>\n",
              "      <td>38.643578</td>\n",
              "      <td>1.896664e+05</td>\n",
              "      <td>10.078029</td>\n",
              "      <td>1079.045208</td>\n",
              "      <td>87.504105</td>\n",
              "      <td>40.422391</td>\n",
              "      <td>36968.475871</td>\n",
              "      <td>1.0</td>\n",
              "      <td>0.752237</td>\n",
              "    </tr>\n",
              "    <tr>\n",
              "      <th>std</th>\n",
              "      <td>13.710650</td>\n",
              "      <td>1.056039e+05</td>\n",
              "      <td>2.570965</td>\n",
              "      <td>7452.093700</td>\n",
              "      <td>403.008483</td>\n",
              "      <td>12.391571</td>\n",
              "      <td>21894.720169</td>\n",
              "      <td>0.0</td>\n",
              "      <td>0.431718</td>\n",
              "    </tr>\n",
              "    <tr>\n",
              "      <th>min</th>\n",
              "      <td>17.000000</td>\n",
              "      <td>1.228500e+04</td>\n",
              "      <td>1.000000</td>\n",
              "      <td>0.000000</td>\n",
              "      <td>0.000000</td>\n",
              "      <td>1.000000</td>\n",
              "      <td>4384.000000</td>\n",
              "      <td>1.0</td>\n",
              "      <td>0.000000</td>\n",
              "    </tr>\n",
              "    <tr>\n",
              "      <th>25%</th>\n",
              "      <td>28.000000</td>\n",
              "      <td>1.175550e+05</td>\n",
              "      <td>9.000000</td>\n",
              "      <td>0.000000</td>\n",
              "      <td>0.000000</td>\n",
              "      <td>40.000000</td>\n",
              "      <td>22812.000000</td>\n",
              "      <td>1.0</td>\n",
              "      <td>1.000000</td>\n",
              "    </tr>\n",
              "    <tr>\n",
              "      <th>50%</th>\n",
              "      <td>37.000000</td>\n",
              "      <td>1.781470e+05</td>\n",
              "      <td>10.000000</td>\n",
              "      <td>0.000000</td>\n",
              "      <td>0.000000</td>\n",
              "      <td>40.000000</td>\n",
              "      <td>27045.000000</td>\n",
              "      <td>1.0</td>\n",
              "      <td>1.000000</td>\n",
              "    </tr>\n",
              "    <tr>\n",
              "      <th>75%</th>\n",
              "      <td>48.000000</td>\n",
              "      <td>2.376460e+05</td>\n",
              "      <td>12.000000</td>\n",
              "      <td>0.000000</td>\n",
              "      <td>0.000000</td>\n",
              "      <td>45.000000</td>\n",
              "      <td>36018.000000</td>\n",
              "      <td>1.0</td>\n",
              "      <td>1.000000</td>\n",
              "    </tr>\n",
              "    <tr>\n",
              "      <th>max</th>\n",
              "      <td>90.000000</td>\n",
              "      <td>1.490400e+06</td>\n",
              "      <td>16.000000</td>\n",
              "      <td>99999.000000</td>\n",
              "      <td>4356.000000</td>\n",
              "      <td>99.000000</td>\n",
              "      <td>93875.000000</td>\n",
              "      <td>1.0</td>\n",
              "      <td>1.000000</td>\n",
              "    </tr>\n",
              "  </tbody>\n",
              "</table>\n",
              "</div>\n",
              "      <button class=\"colab-df-convert\" onclick=\"convertToInteractive('df-451c6ce6-a7e5-4ee7-b11e-242845720324')\"\n",
              "              title=\"Convert this dataframe to an interactive table.\"\n",
              "              style=\"display:none;\">\n",
              "        \n",
              "  <svg xmlns=\"http://www.w3.org/2000/svg\" height=\"24px\"viewBox=\"0 0 24 24\"\n",
              "       width=\"24px\">\n",
              "    <path d=\"M0 0h24v24H0V0z\" fill=\"none\"/>\n",
              "    <path d=\"M18.56 5.44l.94 2.06.94-2.06 2.06-.94-2.06-.94-.94-2.06-.94 2.06-2.06.94zm-11 1L8.5 8.5l.94-2.06 2.06-.94-2.06-.94L8.5 2.5l-.94 2.06-2.06.94zm10 10l.94 2.06.94-2.06 2.06-.94-2.06-.94-.94-2.06-.94 2.06-2.06.94z\"/><path d=\"M17.41 7.96l-1.37-1.37c-.4-.4-.92-.59-1.43-.59-.52 0-1.04.2-1.43.59L10.3 9.45l-7.72 7.72c-.78.78-.78 2.05 0 2.83L4 21.41c.39.39.9.59 1.41.59.51 0 1.02-.2 1.41-.59l7.78-7.78 2.81-2.81c.8-.78.8-2.07 0-2.86zM5.41 20L4 18.59l7.72-7.72 1.47 1.35L5.41 20z\"/>\n",
              "  </svg>\n",
              "      </button>\n",
              "      \n",
              "  <style>\n",
              "    .colab-df-container {\n",
              "      display:flex;\n",
              "      flex-wrap:wrap;\n",
              "      gap: 12px;\n",
              "    }\n",
              "\n",
              "    .colab-df-convert {\n",
              "      background-color: #E8F0FE;\n",
              "      border: none;\n",
              "      border-radius: 50%;\n",
              "      cursor: pointer;\n",
              "      display: none;\n",
              "      fill: #1967D2;\n",
              "      height: 32px;\n",
              "      padding: 0 0 0 0;\n",
              "      width: 32px;\n",
              "    }\n",
              "\n",
              "    .colab-df-convert:hover {\n",
              "      background-color: #E2EBFA;\n",
              "      box-shadow: 0px 1px 2px rgba(60, 64, 67, 0.3), 0px 1px 3px 1px rgba(60, 64, 67, 0.15);\n",
              "      fill: #174EA6;\n",
              "    }\n",
              "\n",
              "    [theme=dark] .colab-df-convert {\n",
              "      background-color: #3B4455;\n",
              "      fill: #D2E3FC;\n",
              "    }\n",
              "\n",
              "    [theme=dark] .colab-df-convert:hover {\n",
              "      background-color: #434B5C;\n",
              "      box-shadow: 0px 1px 3px 1px rgba(0, 0, 0, 0.15);\n",
              "      filter: drop-shadow(0px 1px 2px rgba(0, 0, 0, 0.3));\n",
              "      fill: #FFFFFF;\n",
              "    }\n",
              "  </style>\n",
              "\n",
              "      <script>\n",
              "        const buttonEl =\n",
              "          document.querySelector('#df-451c6ce6-a7e5-4ee7-b11e-242845720324 button.colab-df-convert');\n",
              "        buttonEl.style.display =\n",
              "          google.colab.kernel.accessAllowed ? 'block' : 'none';\n",
              "\n",
              "        async function convertToInteractive(key) {\n",
              "          const element = document.querySelector('#df-451c6ce6-a7e5-4ee7-b11e-242845720324');\n",
              "          const dataTable =\n",
              "            await google.colab.kernel.invokeFunction('convertToInteractive',\n",
              "                                                     [key], {});\n",
              "          if (!dataTable) return;\n",
              "\n",
              "          const docLinkHtml = 'Like what you see? Visit the ' +\n",
              "            '<a target=\"_blank\" href=https://colab.research.google.com/notebooks/data_table.ipynb>data table notebook</a>'\n",
              "            + ' to learn more about interactive tables.';\n",
              "          element.innerHTML = '';\n",
              "          dataTable['output_type'] = 'display_data';\n",
              "          await google.colab.output.renderOutput(dataTable, element);\n",
              "          const docLink = document.createElement('div');\n",
              "          docLink.innerHTML = docLinkHtml;\n",
              "          element.appendChild(docLink);\n",
              "        }\n",
              "      </script>\n",
              "    </div>\n",
              "  </div>\n",
              "  "
            ],
            "text/plain": [
              "                age        fnlwgt  education-num  capital-gain  capital-loss  \\\n",
              "count  48841.000000  4.884100e+04   48841.000000  48841.000000  48841.000000   \n",
              "mean      38.643578  1.896664e+05      10.078029   1079.045208     87.504105   \n",
              "std       13.710650  1.056039e+05       2.570965   7452.093700    403.008483   \n",
              "min       17.000000  1.228500e+04       1.000000      0.000000      0.000000   \n",
              "25%       28.000000  1.175550e+05       9.000000      0.000000      0.000000   \n",
              "50%       37.000000  1.781470e+05      10.000000      0.000000      0.000000   \n",
              "75%       48.000000  2.376460e+05      12.000000      0.000000      0.000000   \n",
              "max       90.000000  1.490400e+06      16.000000  99999.000000   4356.000000   \n",
              "\n",
              "       hours-per-week        income  income_binaire  income_diff_private  \n",
              "count    48841.000000  48841.000000         48841.0         48841.000000  \n",
              "mean        40.422391  36968.475871             1.0             0.752237  \n",
              "std         12.391571  21894.720169             0.0             0.431718  \n",
              "min          1.000000   4384.000000             1.0             0.000000  \n",
              "25%         40.000000  22812.000000             1.0             1.000000  \n",
              "50%         40.000000  27045.000000             1.0             1.000000  \n",
              "75%         45.000000  36018.000000             1.0             1.000000  \n",
              "max         99.000000  93875.000000             1.0             1.000000  "
            ]
          },
          "execution_count": 46,
          "metadata": {},
          "output_type": "execute_result"
        }
      ],
      "source": [
        "df['income'].unique()\n",
        "p=q=0.5\n",
        "df['income_binaire']=np.where(df['income'] == '<=50k',0,1) \n",
        "df['income_diff_private']=df['income_binaire'].apply(lambda x :process_value(x, p, q  ))\n",
        "\n",
        "Liste_valeurs_calculées_DF=[]\n",
        "for i, j in enumerate(df['income_binaire']):\n",
        "    Liste_valeurs_calculées_DF.append (process_value(j, p, q))\n",
        "df['income_diff_private'] = np.array(Liste_valeurs_calculées_DF)\n",
        "\n",
        "df.head(5)\n",
        "\n",
        "df.describe() \n"
      ]
    },
    {
      "cell_type": "markdown",
      "metadata": {
        "id": "xYlBuH_xsaFJ"
      },
      "source": [
        "# Working With Differentially Private Data\n",
        "\n",
        "After collecting the differentially private data, we want of course to make use of it! For example, we might want to estimate the probability of a person having an income > 50K based on the data we've collected, which we assume is Bernoulli distributed with a probability $p_{1}$ for every individual in the database. Now, when adding up the data from $n$ persons, the resulting value is binomially distributed. The mean of this distribution is given as $\\mathbb{E}_{1} = n\\cdot p_{1}$ and the variance as $\\mathbb{V}_1 = n\\cdot p_1 \\cdot (1-p_1)$. A consistent and unbiased estimator of $\\mathbb{E}_1$ is $\\hat{\\mathbb{E}}_{1} = \\sum_i x_i$, which then gives an estimate for $p_{1}$ of $\\hat{p}_{1} = \\hat{\\mathbb{E}}_1/n$.\n",
        "\n",
        "Now, if we apply the differential privacy mechanism to our dataset, the probability of obtaining a $1$ will change to $p_{1,dp} = (1-p)\\cdot p_{1}+p\\cdot(1-q)$. Therefore, an unbiased and consistent estimator of $p_1$ based on $p_{1,dp}$ is given as\n",
        "$$\n",
        "\\begin{equation}\n",
        "\\hat{p}_1 = \\frac{\\hat{p}_{1,dp}-p\\cdot(1-q)}{1-p}\n",
        "\\end{equation}\n",
        "$$\n",
        "\n",
        "As before, $\\hat{p}_{1,dp}=\\sum_i x_{i,dp}/n$. Note that this naive estimator can return a negative probability, which can be avoided by using a more suitable method like a maximum likelihood estimator."
      ]
    },
    {
      "cell_type": "markdown",
      "metadata": {
        "id": "nmcslW-osaFJ"
      },
      "source": [
        "## Exercise\n",
        "\n",
        "**Write an estimator for $\\hat{p}_1$ based on a differentially private dataset with parameters $p$ and $k$..**"
      ]
    },
    {
      "cell_type": "code",
      "execution_count": 47,
      "metadata": {
        "colab": {
          "base_uri": "https://localhost:8080/"
        },
        "id": "wAPlpmGOsaFK",
        "outputId": "5d1f5c5a-d8f1-441a-b7ef-aa6d19307a44"
      },
      "outputs": [
        {
          "name": "stdout",
          "output_type": "stream",
          "text": [
            "-0.3\n"
          ]
        }
      ],
      "source": [
        "def p_1_estimator(p_1dp, p, q):\n",
        "    \"\"\"\n",
        "    :param p_1dp: The empirical probability of x_i=1 of our DP dataset.\n",
        "    :param     p: The p value of our DP scheme.\n",
        "    :param     q: The q value of our DP scheme.\n",
        "    :    returns: An estimate of p_1 of our DP dataset.\n",
        "    \"\"\"\n",
        "    return  (p_1dp - p*(1 - q) ) / (1 - p)\n",
        "    # p1_dp se base sur les données =somme des 1 / nombre d'observations\n",
        "\n",
        "print(p_1_estimator(0.1, 0.5, 0.5) )\n",
        "# comme indiqué plus haut des valeurs peuvent être négatives"
      ]
    },
    {
      "cell_type": "markdown",
      "metadata": {
        "id": "ZuqlFcAQsaFK"
      },
      "source": [
        "## Exercise\n",
        "\n",
        "**Apply the estimator to the differentially private dataset created above to generate an estimate of $p_1$.**"
      ]
    },
    {
      "cell_type": "code",
      "execution_count": 48,
      "metadata": {
        "colab": {
          "base_uri": "https://localhost:8080/"
        },
        "id": "rZUZoqcysaFK",
        "outputId": "1c2706ab-661b-4b71-901b-c49744fcac71"
      },
      "outputs": [
        {
          "name": "stdout",
          "output_type": "stream",
          "text": [
            "la taille de l'échantillon est:  48841\n",
            "la fréquence réelle de 1 dans les données est:  1.000  \n",
            "la fréquence réelle de 1 dans après dif privacy:  0.752  \n",
            "la probabilité estimée de 1 après dif privacy est  1.004  : \n"
          ]
        }
      ],
      "source": [
        "p=q=0.5\n",
        "n = len(df)\n",
        "p_1= df['income_binaire'].sum() / n   # fréquence réelle de 1 pour les données\n",
        "p1_dp=df['income_diff_private'].sum() / n   # fréquence de 1 après  diff privacy\n",
        "p_1_estimated=p_1_estimator(p1_dp,p,q)  # p1 estimée  après  devrait être proche de p1_dp\n",
        "\n",
        "print(\"la taille de l'échantillon est: \", n)\n",
        "print(\"la fréquence réelle de 1 dans les données est:  {:.3f}  \".format(p_1))\n",
        "print(\"la fréquence réelle de 1 dans après dif privacy:  {:.3f}  \".format(p1_dp))\n",
        "print(\"la probabilité estimée de 1 après dif privacy est  {:.3f}  : \".format(p_1_estimated))"
      ]
    },
    {
      "cell_type": "markdown",
      "metadata": {
        "id": "KBmrwKEvsaFK"
      },
      "source": [
        "## Exercise\n",
        "\n",
        "**Write a function that estimates the variance of $\\hat{p}_{1}$ and calculate its value for the case above.**\n",
        "\n",
        "Hint: The variance of $\\hat{p}_1$ can be estimated as $$\\hat{\\mathrm{Var}}_1 = \\frac{\\hat{\\mathrm{Var}}_{1,dp}}{(1-p)^2} = \\frac{\\hat{p}_{1,dp}\\cdot(1-\\hat{p}_{1,dp})}{(1-p)^2\\cdot n}$$"
      ]
    },
    {
      "cell_type": "code",
      "execution_count": 49,
      "metadata": {
        "colab": {
          "base_uri": "https://localhost:8080/"
        },
        "id": "8x-WCNQcsaFK",
        "outputId": "9124d7a4-b079-4be5-af8a-ce085f6b23fe"
      },
      "outputs": [
        {
          "data": {
            "text/plain": [
              "1.526394393297173e-05"
            ]
          },
          "execution_count": 49,
          "metadata": {},
          "output_type": "execute_result"
        }
      ],
      "source": [
        "def var_1_estimator(p_1dp, n, p, q):\n",
        "    \"\"\"\n",
        "    :param p_1dp: The estimates probability of our DP dataset.\n",
        "    :param     n: The number of samples in our dataset.\n",
        "    :param     p: The p value of our DP scheme.\n",
        "    :param     q: The q value of our DP scheme.\n",
        "    :    returns: An estimate of the variance of our DP dataset.\n",
        "    \"\"\"\n",
        "    return ( p1_dp*(1 - p1_dp)) / ( ((1 - p)**2) * n)\n",
        "    \n",
        "var_1_hat = var_1_estimator(p1_dp, len(df), p, q)\n",
        "var_1_hat"
      ]
    },
    {
      "cell_type": "markdown",
      "metadata": {
        "id": "E5C9yQsTsaFK"
      },
      "source": [
        "## Exercise\n",
        "\n",
        "**Repeat the data generation process $N$ (e.g. 500) times. For each resulting dataset, estimate $\\hat{p}_1$ and store the value in a list, so that we can plot it later.**"
      ]
    },
    {
      "cell_type": "code",
      "execution_count": 50,
      "metadata": {
        "colab": {
          "base_uri": "https://localhost:8080/"
        },
        "id": "enA76iaWsaFK",
        "outputId": "405006af-2906-4ec1-efd4-f0d31485d9e1"
      },
      "outputs": [
        {
          "data": {
            "text/plain": [
              "array([0.9943183 , 1.00435085, 0.99743044, 0.9968162 , 1.00226244,\n",
              "       0.99804468, 1.00959235, 1.00394136, 1.00230339, 1.00267194,\n",
              "       1.00107492, 0.99698   , 1.00021498, 0.99743044, 0.99796278,\n",
              "       1.0019758 , 0.99538298, 0.99845417, 1.00631641, 0.99321267])"
            ]
          },
          "execution_count": 50,
          "metadata": {},
          "output_type": "execute_result"
        }
      ],
      "source": [
        "\n",
        "p=q=0.5\n",
        "n = len(df)\n",
        "p1_dp=df['income_diff_private'].sum() / n \n",
        "# start\n",
        "p_1_hats=[]\n",
        "for j in range(500):\n",
        "  df['income_diff_private']=df['income_binaire'].apply(lambda x :process_value(x, p, q  ))\n",
        "  \"\"\"\n",
        "    valeurs_calculées_par_DP = []\n",
        "    for i, x in enumerate(df['income_binaire']):\n",
        "        valeurs_calculées_par_DP.append (process_value(x, p, q))\n",
        "\n",
        "    df['income_diff_private'] = np.array(valeurs_calculées_par_DP)\n",
        "  \"\"\"\n",
        "  p_1dp = df['income_diff_private'].sum()/len(df)\n",
        "  p_1_hat = p_1_estimator(p_1dp, p, q)\n",
        "  p_1_hats.append(p_1_hat)\n",
        "\n",
        "p_1_hats = np.array(p_1_hats)  # on convertit la liste en ndarray numpy\n",
        "\n",
        "p_1_hats[0:20]\n",
        "\n"
      ]
    },
    {
      "cell_type": "code",
      "execution_count": 51,
      "metadata": {
        "colab": {
          "base_uri": "https://localhost:8080/",
          "height": 265
        },
        "id": "BKyuyWCmsaFL",
        "outputId": "15c8420d-d861-4658-be68-1ebed6f7c32e"
      },
      "outputs": [
        {
          "data": {
            "image/png": "[encoded data removed]",
            "text/plain": [
              "<Figure size 432x288 with 1 Axes>"
            ]
          },
          "metadata": {
            "needs_background": "light"
          },
          "output_type": "display_data"
        }
      ],
      "source": [
        "# We then compare these estimates to the expected distribution (via central limit theorem: a normal distribution\n",
        "# with expectation p_1 and variance var_1_hat)\n",
        "\n",
        "import matplotlib.pylab as plt\n",
        "\n",
        "plt.hist(p_1_hats, density=True)\n",
        "\n",
        "gauss = lambda x, mu, var: 1/np.sqrt(2*np.pi*var)*np.exp(-(x-mu)**2/(2*var))\n",
        "\n",
        "p_1_hat = p_1_hats.mean()\n",
        "\n",
        "x = np.linspace(0.1, 0.3, 1000)\n",
        "\n",
        "plt.plot(x, gauss(x, p_1_hat, var_1_hat));"
      ]
    },
    {
      "cell_type": "markdown",
      "metadata": {
        "id": "8nuT-zKcsaFL"
      },
      "source": [
        "# Another scheme: Laplace mechanism. \n",
        "\n",
        "We can now estimate the probability of a categorial private feature from accuring in $X$. But what about numerical features? For example, let us suppose that the database $X$ contains the real people incomes. We still would like to be able to estimate the mean income of the population in a private way. First let us introduce what a Laplace distribution is. A Laplace distribution with scale $b$ that is the distribution with probability density \n",
        "\n",
        "$$Lap(x|b)=\\frac{1}{2b}exp\\left(-\\frac{|x|}{b}\\right).$$\n",
        "\n",
        "\n",
        "To manage this kind of problem, we intoduce another simple randomization scheme called **Laplace mechanism**: \n",
        "\n",
        "* Sample $s$ a random noise from a laplace distribution with scale $\\frac{\\epsilon}{\\Delta}$, where $\\Delta$ is the maximum difference of income two people could have. For example we consider that the minimum income is $0$ and the maximum is 200 000 dollars, hence $\\Delta=200 000$.\n",
        "* Add $s$ to Alice's true income to get a private income for Alice. \n",
        "\n",
        "For this scheme, calculating $\\epsilon$ is trivial, since it is directly in the distribution scale."
      ]
    },
    {
      "cell_type": "markdown",
      "metadata": {
        "id": "txoxnlm9saFL"
      },
      "source": [
        "## Exercise (Bonus)\n",
        "\n",
        "**Show that the Laplace mechanism makes data publishing $\\epsilon$-differentially private**"
      ]
    },
    {
      "cell_type": "markdown",
      "metadata": {
        "id": "GtAP-nNUsaFL"
      },
      "source": [
        "## Implementing it\n",
        "\n",
        "To implement this scheme, we load a modified version of the \"adult census\" data from the k-anonymity where incomes are numerical. "
      ]
    },
    {
      "cell_type": "code",
      "execution_count": 33,
      "metadata": {
        "id": "Icf_AfLosaFL"
      },
      "outputs": [],
      "source": [
        "import pandas as pd\n",
        "\n",
        "names = (\n",
        "    'age',\n",
        "    'workclass', #Private, Self-emp-not-inc, Self-emp-inc, Federal-gov, Local-gov, State-gov, Without-pay, Never-worked.\n",
        "    'fnlwgt', # \"weight\" of that person in the dataset (i.e. how many people does that person represent) -> https://www.kansascityfed.org/research/datamuseum/cps/coreinfo/keyconcepts/weights\n",
        "    'education',\n",
        "    'education-num',\n",
        "    'marital-status',\n",
        "    'occupation',\n",
        "    'relationship',\n",
        "    'race',\n",
        "    'sex',\n",
        "    'capital-gain',\n",
        "    'capital-loss',\n",
        "    'hours-per-week',\n",
        "    'native-country',\n",
        "    'income-numerical',\n",
        ")\n",
        "categorical = set((\n",
        "    'workclass',\n",
        "    'education',\n",
        "    'marital-status',\n",
        "    'occupation',\n",
        "    'relationship',\n",
        "    'sex',\n",
        "    'native-country',\n",
        "    'race',\n",
        "))\n",
        "df = pd.read_csv(\"adult.all.numerical.txt\", sep=\" \", header=None, names=names, index_col=False, engine='python');# We load the data using Pandas"
      ]
    },
    {
      "cell_type": "code",
      "execution_count": 34,
      "metadata": {
        "colab": {
          "base_uri": "https://localhost:8080/",
          "height": 441
        },
        "id": "R8-YmwOAsaFL",
        "outputId": "1e857e03-befa-44b9-82b4-e99a680db3ae"
      },
      "outputs": [
        {
          "data": {
            "text/html": [
              "\n",
              "  <div id=\"df-6157ed6b-289f-4041-b639-1360f0b3ff17\">\n",
              "    <div class=\"colab-df-container\">\n",
              "      <div>\n",
              "<style scoped>\n",
              "    .dataframe tbody tr th:only-of-type {\n",
              "        vertical-align: middle;\n",
              "    }\n",
              "\n",
              "    .dataframe tbody tr th {\n",
              "        vertical-align: top;\n",
              "    }\n",
              "\n",
              "    .dataframe thead th {\n",
              "        text-align: right;\n",
              "    }\n",
              "</style>\n",
              "<table border=\"1\" class=\"dataframe\">\n",
              "  <thead>\n",
              "    <tr style=\"text-align: right;\">\n",
              "      <th></th>\n",
              "      <th>age</th>\n",
              "      <th>workclass</th>\n",
              "      <th>fnlwgt</th>\n",
              "      <th>education</th>\n",
              "      <th>education-num</th>\n",
              "      <th>marital-status</th>\n",
              "      <th>occupation</th>\n",
              "      <th>relationship</th>\n",
              "      <th>race</th>\n",
              "      <th>sex</th>\n",
              "      <th>capital-gain</th>\n",
              "      <th>capital-loss</th>\n",
              "      <th>hours-per-week</th>\n",
              "      <th>native-country</th>\n",
              "      <th>income-numerical</th>\n",
              "    </tr>\n",
              "  </thead>\n",
              "  <tbody>\n",
              "    <tr>\n",
              "      <th>0</th>\n",
              "      <td>50</td>\n",
              "      <td>Self-emp-not-inc</td>\n",
              "      <td>83311</td>\n",
              "      <td>Bachelors</td>\n",
              "      <td>13</td>\n",
              "      <td>Married-civ-spouse</td>\n",
              "      <td>Exec-managerial</td>\n",
              "      <td>Husband</td>\n",
              "      <td>White</td>\n",
              "      <td>Male</td>\n",
              "      <td>0</td>\n",
              "      <td>0</td>\n",
              "      <td>13</td>\n",
              "      <td>United-States</td>\n",
              "      <td>21467</td>\n",
              "    </tr>\n",
              "    <tr>\n",
              "      <th>1</th>\n",
              "      <td>38</td>\n",
              "      <td>Private</td>\n",
              "      <td>215646</td>\n",
              "      <td>HS-grad</td>\n",
              "      <td>9</td>\n",
              "      <td>Divorced</td>\n",
              "      <td>Handlers-cleaners</td>\n",
              "      <td>Not-in-family</td>\n",
              "      <td>White</td>\n",
              "      <td>Male</td>\n",
              "      <td>0</td>\n",
              "      <td>0</td>\n",
              "      <td>40</td>\n",
              "      <td>United-States</td>\n",
              "      <td>33405</td>\n",
              "    </tr>\n",
              "    <tr>\n",
              "      <th>2</th>\n",
              "      <td>53</td>\n",
              "      <td>Private</td>\n",
              "      <td>234721</td>\n",
              "      <td>11th</td>\n",
              "      <td>7</td>\n",
              "      <td>Married-civ-spouse</td>\n",
              "      <td>Handlers-cleaners</td>\n",
              "      <td>Husband</td>\n",
              "      <td>Black</td>\n",
              "      <td>Male</td>\n",
              "      <td>0</td>\n",
              "      <td>0</td>\n",
              "      <td>40</td>\n",
              "      <td>United-States</td>\n",
              "      <td>20462</td>\n",
              "    </tr>\n",
              "    <tr>\n",
              "      <th>3</th>\n",
              "      <td>28</td>\n",
              "      <td>Private</td>\n",
              "      <td>338409</td>\n",
              "      <td>Bachelors</td>\n",
              "      <td>13</td>\n",
              "      <td>Married-civ-spouse</td>\n",
              "      <td>Prof-specialty</td>\n",
              "      <td>Wife</td>\n",
              "      <td>Black</td>\n",
              "      <td>Female</td>\n",
              "      <td>0</td>\n",
              "      <td>0</td>\n",
              "      <td>40</td>\n",
              "      <td>Cuba</td>\n",
              "      <td>22867</td>\n",
              "    </tr>\n",
              "    <tr>\n",
              "      <th>4</th>\n",
              "      <td>37</td>\n",
              "      <td>Private</td>\n",
              "      <td>284582</td>\n",
              "      <td>Masters</td>\n",
              "      <td>14</td>\n",
              "      <td>Married-civ-spouse</td>\n",
              "      <td>Exec-managerial</td>\n",
              "      <td>Wife</td>\n",
              "      <td>White</td>\n",
              "      <td>Female</td>\n",
              "      <td>0</td>\n",
              "      <td>0</td>\n",
              "      <td>40</td>\n",
              "      <td>United-States</td>\n",
              "      <td>25853</td>\n",
              "    </tr>\n",
              "  </tbody>\n",
              "</table>\n",
              "</div>\n",
              "      <button class=\"colab-df-convert\" onclick=\"convertToInteractive('df-6157ed6b-289f-4041-b639-1360f0b3ff17')\"\n",
              "              title=\"Convert this dataframe to an interactive table.\"\n",
              "              style=\"display:none;\">\n",
              "        \n",
              "  <svg xmlns=\"http://www.w3.org/2000/svg\" height=\"24px\"viewBox=\"0 0 24 24\"\n",
              "       width=\"24px\">\n",
              "    <path d=\"M0 0h24v24H0V0z\" fill=\"none\"/>\n",
              "    <path d=\"M18.56 5.44l.94 2.06.94-2.06 2.06-.94-2.06-.94-.94-2.06-.94 2.06-2.06.94zm-11 1L8.5 8.5l.94-2.06 2.06-.94-2.06-.94L8.5 2.5l-.94 2.06-2.06.94zm10 10l.94 2.06.94-2.06 2.06-.94-2.06-.94-.94-2.06-.94 2.06-2.06.94z\"/><path d=\"M17.41 7.96l-1.37-1.37c-.4-.4-.92-.59-1.43-.59-.52 0-1.04.2-1.43.59L10.3 9.45l-7.72 7.72c-.78.78-.78 2.05 0 2.83L4 21.41c.39.39.9.59 1.41.59.51 0 1.02-.2 1.41-.59l7.78-7.78 2.81-2.81c.8-.78.8-2.07 0-2.86zM5.41 20L4 18.59l7.72-7.72 1.47 1.35L5.41 20z\"/>\n",
              "  </svg>\n",
              "      </button>\n",
              "      \n",
              "  <style>\n",
              "    .colab-df-container {\n",
              "      display:flex;\n",
              "      flex-wrap:wrap;\n",
              "      gap: 12px;\n",
              "    }\n",
              "\n",
              "    .colab-df-convert {\n",
              "      background-color: #E8F0FE;\n",
              "      border: none;\n",
              "      border-radius: 50%;\n",
              "      cursor: pointer;\n",
              "      display: none;\n",
              "      fill: #1967D2;\n",
              "      height: 32px;\n",
              "      padding: 0 0 0 0;\n",
              "      width: 32px;\n",
              "    }\n",
              "\n",
              "    .colab-df-convert:hover {\n",
              "      background-color: #E2EBFA;\n",
              "      box-shadow: 0px 1px 2px rgba(60, 64, 67, 0.3), 0px 1px 3px 1px rgba(60, 64, 67, 0.15);\n",
              "      fill: #174EA6;\n",
              "    }\n",
              "\n",
              "    [theme=dark] .colab-df-convert {\n",
              "      background-color: #3B4455;\n",
              "      fill: #D2E3FC;\n",
              "    }\n",
              "\n",
              "    [theme=dark] .colab-df-convert:hover {\n",
              "      background-color: #434B5C;\n",
              "      box-shadow: 0px 1px 3px 1px rgba(0, 0, 0, 0.15);\n",
              "      filter: drop-shadow(0px 1px 2px rgba(0, 0, 0, 0.3));\n",
              "      fill: #FFFFFF;\n",
              "    }\n",
              "  </style>\n",
              "\n",
              "      <script>\n",
              "        const buttonEl =\n",
              "          document.querySelector('#df-6157ed6b-289f-4041-b639-1360f0b3ff17 button.colab-df-convert');\n",
              "        buttonEl.style.display =\n",
              "          google.colab.kernel.accessAllowed ? 'block' : 'none';\n",
              "\n",
              "        async function convertToInteractive(key) {\n",
              "          const element = document.querySelector('#df-6157ed6b-289f-4041-b639-1360f0b3ff17');\n",
              "          const dataTable =\n",
              "            await google.colab.kernel.invokeFunction('convertToInteractive',\n",
              "                                                     [key], {});\n",
              "          if (!dataTable) return;\n",
              "\n",
              "          const docLinkHtml = 'Like what you see? Visit the ' +\n",
              "            '<a target=\"_blank\" href=https://colab.research.google.com/notebooks/data_table.ipynb>data table notebook</a>'\n",
              "            + ' to learn more about interactive tables.';\n",
              "          element.innerHTML = '';\n",
              "          dataTable['output_type'] = 'display_data';\n",
              "          await google.colab.output.renderOutput(dataTable, element);\n",
              "          const docLink = document.createElement('div');\n",
              "          docLink.innerHTML = docLinkHtml;\n",
              "          element.appendChild(docLink);\n",
              "        }\n",
              "      </script>\n",
              "    </div>\n",
              "  </div>\n",
              "  "
            ],
            "text/plain": [
              "   age          workclass  fnlwgt   education  education-num  \\\n",
              "0   50   Self-emp-not-inc   83311   Bachelors             13   \n",
              "1   38            Private  215646     HS-grad              9   \n",
              "2   53            Private  234721        11th              7   \n",
              "3   28            Private  338409   Bachelors             13   \n",
              "4   37            Private  284582     Masters             14   \n",
              "\n",
              "        marital-status          occupation    relationship    race      sex  \\\n",
              "0   Married-civ-spouse     Exec-managerial         Husband   White     Male   \n",
              "1             Divorced   Handlers-cleaners   Not-in-family   White     Male   \n",
              "2   Married-civ-spouse   Handlers-cleaners         Husband   Black     Male   \n",
              "3   Married-civ-spouse      Prof-specialty            Wife   Black   Female   \n",
              "4   Married-civ-spouse     Exec-managerial            Wife   White   Female   \n",
              "\n",
              "   capital-gain  capital-loss  hours-per-week  native-country  \\\n",
              "0             0             0              13   United-States   \n",
              "1             0             0              40   United-States   \n",
              "2             0             0              40   United-States   \n",
              "3             0             0              40            Cuba   \n",
              "4             0             0              40   United-States   \n",
              "\n",
              "   income-numerical  \n",
              "0             21467  \n",
              "1             33405  \n",
              "2             20462  \n",
              "3             22867  \n",
              "4             25853  "
            ]
          },
          "execution_count": 34,
          "metadata": {},
          "output_type": "execute_result"
        }
      ],
      "source": [
        "df.head()"
      ]
    },
    {
      "cell_type": "markdown",
      "metadata": {
        "id": "m9YEb4kasaFM"
      },
      "source": [
        "## Exercise \n",
        "\n",
        "**Write a function that generates a random sample from a Laplace distribution with scale $b$.**\n",
        "\n",
        "**Hint: You can use numpy.random or learn more about how to generate noises [here](https://en.wikipedia.org/wiki/Inverse_transform_sampling).**"
      ]
    },
    {
      "cell_type": "code",
      "execution_count": 35,
      "metadata": {
        "id": "pUPyzclMsaFM"
      },
      "outputs": [],
      "source": [
        "def simlap(n, b):\n",
        "    \"\"\"\n",
        "    :param     n: The number of samples to draw\n",
        "    :param     b: Scale of the distribution.\n",
        "    :    returns: a vector of size n with noises sample from laplace dristribution.\n",
        "    \"\"\"\n",
        "    liste=[]\n",
        "    for i in range(n):\n",
        "      liste.append(np.random.laplace(loc=0.0, scale=b ))   # donc, le bruit ne dépend pas de la valeur numérique en entrée, c'est surprenant (par rapport au schéma vu précédement ??)\n",
        "    return liste\n",
        "\n",
        "# b prend en compte epsilon et le Delta (donc l'écart maximum entre les données)\n",
        "# on renvoie une liste de \"bruits\" qu'il faudra ajouter ensuite au dataset d'origine"
      ]
    },
    {
      "cell_type": "code",
      "execution_count": 36,
      "metadata": {
        "colab": {
          "base_uri": "https://localhost:8080/",
          "height": 265
        },
        "id": "bBQjdJBosaFM",
        "outputId": "3d36af21-7162-43d8-8cbb-7df85a9eba36"
      },
      "outputs": [
        {
          "data": {
            "image/png": "[encoded data removed]",
            "text/plain": [
              "<Figure size 432x288 with 1 Axes>"
            ]
          },
          "metadata": {
            "needs_background": "light"
          },
          "output_type": "display_data"
        }
      ],
      "source": [
        "# We now plot the histogram of the sampled noise against the density \n",
        "# of a laplace distribution to check if they match\n",
        "\n",
        "epsilon = df['income-numerical'].mean()\n",
        "income_max = df['income-numerical'].max()\n",
        "income_min = df['income-numerical'].min()\n",
        "delta = income_max - income_min\n",
        "b=8*epsilon/delta  \n",
        "\n",
        "b=1\n",
        "# b contains epsilon and delta\n",
        "n=1000\n",
        "\n",
        "l = simlap(n,b)\n",
        "plt.hist(l,  density=True, bins=[float(i)/2 for i in range(-20,21)])\n",
        "\n",
        "laplace = lambda x, b: 1/(2*b)*np.exp(-np.abs(x)/b)\n",
        "\n",
        "x = np.linspace(-10, 10, 1000)\n",
        "\n",
        "plt.plot(x, laplace(x, b));"
      ]
    },
    {
      "cell_type": "markdown",
      "metadata": {
        "id": "fpMuWRsMsaFM"
      },
      "source": [
        "## Exercise\n",
        "\n",
        "**Now apply Laplace mechanism to the \"income-numerical\" column of the adult dataset to obtain a differentially private dataset with $\\epsilon =1$.**"
      ]
    },
    {
      "cell_type": "code",
      "execution_count": 37,
      "metadata": {
        "colab": {
          "base_uri": "https://localhost:8080/"
        },
        "id": "vVw0LM32saFM",
        "outputId": "3c83a5e9-2fdb-4d4e-9fc1-d304c393352d"
      },
      "outputs": [
        {
          "name": "stdout",
          "output_type": "stream",
          "text": [
            "1\n"
          ]
        }
      ],
      "source": [
        "\n",
        "\n",
        "import numpy as np\n",
        "\n",
        "epsilon=1\n",
        "Delta=df['income-numerical'].max() - df['income-numerical'].min()\n",
        "#b= epsilon # c'est le scale\n",
        "print(b)\n",
        "df['Laplace_bruit'] = df['income-numerical'].apply(lambda x : np.random.laplace(loc=0, scale=b) )\n",
        "\"\"\"\n",
        "Liste_bruits=[]\n",
        "for i, j in enumerate(df['income-numerical']):\n",
        "  Liste_bruits.append(np.random.laplace(loc=0, scale=b))\n",
        "Liste_bruits= np.array(Liste_bruits)\n",
        "\"\"\"\n",
        "df['income_dp'] = df['income-numerical'] + df['Laplace_bruit']"
      ]
    },
    {
      "cell_type": "markdown",
      "metadata": {
        "id": "HbECNGoRsaFM"
      },
      "source": [
        "## Exercise\n",
        "\n",
        "**compare a few of the lines from the rivate and non private columns. Would you say the data would still be useful for a statistical analysis? Compute the mean of each columns and discuss.**"
      ]
    },
    {
      "cell_type": "code",
      "execution_count": 38,
      "metadata": {
        "colab": {
          "base_uri": "https://localhost:8080/",
          "height": 300
        },
        "id": "qcRlGkpRsaFN",
        "outputId": "7d214007-806f-4351-8254-52b223f41806"
      },
      "outputs": [
        {
          "data": {
            "text/html": [
              "\n",
              "  <div id=\"df-0870c7aa-b7bb-43a2-bb1c-ddaef8c733a1\">\n",
              "    <div class=\"colab-df-container\">\n",
              "      <div>\n",
              "<style scoped>\n",
              "    .dataframe tbody tr th:only-of-type {\n",
              "        vertical-align: middle;\n",
              "    }\n",
              "\n",
              "    .dataframe tbody tr th {\n",
              "        vertical-align: top;\n",
              "    }\n",
              "\n",
              "    .dataframe thead th {\n",
              "        text-align: right;\n",
              "    }\n",
              "</style>\n",
              "<table border=\"1\" class=\"dataframe\">\n",
              "  <thead>\n",
              "    <tr style=\"text-align: right;\">\n",
              "      <th></th>\n",
              "      <th>age</th>\n",
              "      <th>fnlwgt</th>\n",
              "      <th>education-num</th>\n",
              "      <th>capital-gain</th>\n",
              "      <th>capital-loss</th>\n",
              "      <th>hours-per-week</th>\n",
              "      <th>income-numerical</th>\n",
              "      <th>Laplace_bruit</th>\n",
              "      <th>income_dp</th>\n",
              "    </tr>\n",
              "  </thead>\n",
              "  <tbody>\n",
              "    <tr>\n",
              "      <th>count</th>\n",
              "      <td>48841.000000</td>\n",
              "      <td>4.884100e+04</td>\n",
              "      <td>48841.000000</td>\n",
              "      <td>48841.000000</td>\n",
              "      <td>48841.000000</td>\n",
              "      <td>48841.000000</td>\n",
              "      <td>48841.000000</td>\n",
              "      <td>48841.000000</td>\n",
              "      <td>48841.000000</td>\n",
              "    </tr>\n",
              "    <tr>\n",
              "      <th>mean</th>\n",
              "      <td>38.643578</td>\n",
              "      <td>1.896664e+05</td>\n",
              "      <td>10.078029</td>\n",
              "      <td>1079.045208</td>\n",
              "      <td>87.504105</td>\n",
              "      <td>40.422391</td>\n",
              "      <td>36968.475871</td>\n",
              "      <td>0.000063</td>\n",
              "      <td>36968.475933</td>\n",
              "    </tr>\n",
              "    <tr>\n",
              "      <th>std</th>\n",
              "      <td>13.710650</td>\n",
              "      <td>1.056039e+05</td>\n",
              "      <td>2.570965</td>\n",
              "      <td>7452.093700</td>\n",
              "      <td>403.008483</td>\n",
              "      <td>12.391571</td>\n",
              "      <td>21894.720169</td>\n",
              "      <td>1.417046</td>\n",
              "      <td>21894.708934</td>\n",
              "    </tr>\n",
              "    <tr>\n",
              "      <th>min</th>\n",
              "      <td>17.000000</td>\n",
              "      <td>1.228500e+04</td>\n",
              "      <td>1.000000</td>\n",
              "      <td>0.000000</td>\n",
              "      <td>0.000000</td>\n",
              "      <td>1.000000</td>\n",
              "      <td>4384.000000</td>\n",
              "      <td>-13.864328</td>\n",
              "      <td>4384.171507</td>\n",
              "    </tr>\n",
              "    <tr>\n",
              "      <th>25%</th>\n",
              "      <td>28.000000</td>\n",
              "      <td>1.175550e+05</td>\n",
              "      <td>9.000000</td>\n",
              "      <td>0.000000</td>\n",
              "      <td>0.000000</td>\n",
              "      <td>40.000000</td>\n",
              "      <td>22812.000000</td>\n",
              "      <td>-0.692441</td>\n",
              "      <td>22813.313894</td>\n",
              "    </tr>\n",
              "    <tr>\n",
              "      <th>50%</th>\n",
              "      <td>37.000000</td>\n",
              "      <td>1.781470e+05</td>\n",
              "      <td>10.000000</td>\n",
              "      <td>0.000000</td>\n",
              "      <td>0.000000</td>\n",
              "      <td>40.000000</td>\n",
              "      <td>27045.000000</td>\n",
              "      <td>-0.003401</td>\n",
              "      <td>27044.930971</td>\n",
              "    </tr>\n",
              "    <tr>\n",
              "      <th>75%</th>\n",
              "      <td>48.000000</td>\n",
              "      <td>2.376460e+05</td>\n",
              "      <td>12.000000</td>\n",
              "      <td>0.000000</td>\n",
              "      <td>0.000000</td>\n",
              "      <td>45.000000</td>\n",
              "      <td>36018.000000</td>\n",
              "      <td>0.691089</td>\n",
              "      <td>36017.256329</td>\n",
              "    </tr>\n",
              "    <tr>\n",
              "      <th>max</th>\n",
              "      <td>90.000000</td>\n",
              "      <td>1.490400e+06</td>\n",
              "      <td>16.000000</td>\n",
              "      <td>99999.000000</td>\n",
              "      <td>4356.000000</td>\n",
              "      <td>99.000000</td>\n",
              "      <td>93875.000000</td>\n",
              "      <td>12.141839</td>\n",
              "      <td>93875.339668</td>\n",
              "    </tr>\n",
              "  </tbody>\n",
              "</table>\n",
              "</div>\n",
              "      <button class=\"colab-df-convert\" onclick=\"convertToInteractive('df-0870c7aa-b7bb-43a2-bb1c-ddaef8c733a1')\"\n",
              "              title=\"Convert this dataframe to an interactive table.\"\n",
              "              style=\"display:none;\">\n",
              "        \n",
              "  <svg xmlns=\"http://www.w3.org/2000/svg\" height=\"24px\"viewBox=\"0 0 24 24\"\n",
              "       width=\"24px\">\n",
              "    <path d=\"M0 0h24v24H0V0z\" fill=\"none\"/>\n",
              "    <path d=\"M18.56 5.44l.94 2.06.94-2.06 2.06-.94-2.06-.94-.94-2.06-.94 2.06-2.06.94zm-11 1L8.5 8.5l.94-2.06 2.06-.94-2.06-.94L8.5 2.5l-.94 2.06-2.06.94zm10 10l.94 2.06.94-2.06 2.06-.94-2.06-.94-.94-2.06-.94 2.06-2.06.94z\"/><path d=\"M17.41 7.96l-1.37-1.37c-.4-.4-.92-.59-1.43-.59-.52 0-1.04.2-1.43.59L10.3 9.45l-7.72 7.72c-.78.78-.78 2.05 0 2.83L4 21.41c.39.39.9.59 1.41.59.51 0 1.02-.2 1.41-.59l7.78-7.78 2.81-2.81c.8-.78.8-2.07 0-2.86zM5.41 20L4 18.59l7.72-7.72 1.47 1.35L5.41 20z\"/>\n",
              "  </svg>\n",
              "      </button>\n",
              "      \n",
              "  <style>\n",
              "    .colab-df-container {\n",
              "      display:flex;\n",
              "      flex-wrap:wrap;\n",
              "      gap: 12px;\n",
              "    }\n",
              "\n",
              "    .colab-df-convert {\n",
              "      background-color: #E8F0FE;\n",
              "      border: none;\n",
              "      border-radius: 50%;\n",
              "      cursor: pointer;\n",
              "      display: none;\n",
              "      fill: #1967D2;\n",
              "      height: 32px;\n",
              "      padding: 0 0 0 0;\n",
              "      width: 32px;\n",
              "    }\n",
              "\n",
              "    .colab-df-convert:hover {\n",
              "      background-color: #E2EBFA;\n",
              "      box-shadow: 0px 1px 2px rgba(60, 64, 67, 0.3), 0px 1px 3px 1px rgba(60, 64, 67, 0.15);\n",
              "      fill: #174EA6;\n",
              "    }\n",
              "\n",
              "    [theme=dark] .colab-df-convert {\n",
              "      background-color: #3B4455;\n",
              "      fill: #D2E3FC;\n",
              "    }\n",
              "\n",
              "    [theme=dark] .colab-df-convert:hover {\n",
              "      background-color: #434B5C;\n",
              "      box-shadow: 0px 1px 3px 1px rgba(0, 0, 0, 0.15);\n",
              "      filter: drop-shadow(0px 1px 2px rgba(0, 0, 0, 0.3));\n",
              "      fill: #FFFFFF;\n",
              "    }\n",
              "  </style>\n",
              "\n",
              "      <script>\n",
              "        const buttonEl =\n",
              "          document.querySelector('#df-0870c7aa-b7bb-43a2-bb1c-ddaef8c733a1 button.colab-df-convert');\n",
              "        buttonEl.style.display =\n",
              "          google.colab.kernel.accessAllowed ? 'block' : 'none';\n",
              "\n",
              "        async function convertToInteractive(key) {\n",
              "          const element = document.querySelector('#df-0870c7aa-b7bb-43a2-bb1c-ddaef8c733a1');\n",
              "          const dataTable =\n",
              "            await google.colab.kernel.invokeFunction('convertToInteractive',\n",
              "                                                     [key], {});\n",
              "          if (!dataTable) return;\n",
              "\n",
              "          const docLinkHtml = 'Like what you see? Visit the ' +\n",
              "            '<a target=\"_blank\" href=https://colab.research.google.com/notebooks/data_table.ipynb>data table notebook</a>'\n",
              "            + ' to learn more about interactive tables.';\n",
              "          element.innerHTML = '';\n",
              "          dataTable['output_type'] = 'display_data';\n",
              "          await google.colab.output.renderOutput(dataTable, element);\n",
              "          const docLink = document.createElement('div');\n",
              "          docLink.innerHTML = docLinkHtml;\n",
              "          element.appendChild(docLink);\n",
              "        }\n",
              "      </script>\n",
              "    </div>\n",
              "  </div>\n",
              "  "
            ],
            "text/plain": [
              "                age        fnlwgt  education-num  capital-gain  capital-loss  \\\n",
              "count  48841.000000  4.884100e+04   48841.000000  48841.000000  48841.000000   \n",
              "mean      38.643578  1.896664e+05      10.078029   1079.045208     87.504105   \n",
              "std       13.710650  1.056039e+05       2.570965   7452.093700    403.008483   \n",
              "min       17.000000  1.228500e+04       1.000000      0.000000      0.000000   \n",
              "25%       28.000000  1.175550e+05       9.000000      0.000000      0.000000   \n",
              "50%       37.000000  1.781470e+05      10.000000      0.000000      0.000000   \n",
              "75%       48.000000  2.376460e+05      12.000000      0.000000      0.000000   \n",
              "max       90.000000  1.490400e+06      16.000000  99999.000000   4356.000000   \n",
              "\n",
              "       hours-per-week  income-numerical  Laplace_bruit     income_dp  \n",
              "count    48841.000000      48841.000000   48841.000000  48841.000000  \n",
              "mean        40.422391      36968.475871       0.000063  36968.475933  \n",
              "std         12.391571      21894.720169       1.417046  21894.708934  \n",
              "min          1.000000       4384.000000     -13.864328   4384.171507  \n",
              "25%         40.000000      22812.000000      -0.692441  22813.313894  \n",
              "50%         40.000000      27045.000000      -0.003401  27044.930971  \n",
              "75%         45.000000      36018.000000       0.691089  36017.256329  \n",
              "max         99.000000      93875.000000      12.141839  93875.339668  "
            ]
          },
          "execution_count": 38,
          "metadata": {},
          "output_type": "execute_result"
        }
      ],
      "source": [
        "df.head(5)\n",
        "df.describe()\n",
        "\n"
      ]
    },
    {
      "cell_type": "code",
      "execution_count": null,
      "metadata": {
        "id": "ufr-EHd1saFN"
      },
      "outputs": [],
      "source": [
        "#Nous arrivons bien à calculer un bruit pour chaque valeur numérique. Mais le bruit parait faible par rapport aux valeurs de départ (ex: un revenu de 21467 a un bruit de 3,1 - cela parait, instinctivement, faible pour anonymiser les résultats). Autre point: le bruit est calculé sur le delta (et epsilon), cad sur l'écart entre les valeurs (span). Mais le bruit affecté n'est pas lié à la valeur de départ (cad qu'on va indifférement affecter un bruit de 5€ à un salaire de 20 000 ou 80 000). En ce qui concerne les moyennes, on voit qu'elles sont indentiques (93875 et 93877), il y a des \"bruits\" positifs et négatifs, donc la moyenne des bruits tend vers 0\n",
        "\n"
      ]
    },
    {
      "cell_type": "markdown",
      "metadata": {
        "id": "yEIe9Vj6saFN"
      },
      "source": [
        "# Bonus: Noisy Histogram\n",
        "\n",
        "Read about the following [blog posts](https://desfontain.es/privacy/differential-privacy-awesomeness.html) (At least post 1 to 4). Can you compute a private histogram of the incomes of the dataset? "
      ]
    },
    {
      "cell_type": "code",
      "execution_count": 41,
      "metadata": {
        "colab": {
          "base_uri": "https://localhost:8080/",
          "height": 285
        },
        "id": "8OaOp6eVsaFN",
        "outputId": "af92f3a1-16ca-4fa7-e9ed-57442c808508"
      },
      "outputs": [
        {
          "data": {
            "text/plain": [
              "<matplotlib.legend.Legend at 0x7f298d66ee10>"
            ]
          },
          "execution_count": 41,
          "metadata": {},
          "output_type": "execute_result"
        },
        {
          "data": {
            "image/png": "[encoded data removed]",
            "text/plain": [
              "<Figure size 432x288 with 1 Axes>"
            ]
          },
          "metadata": {
            "needs_background": "light"
          },
          "output_type": "display_data"
        }
      ],
      "source": [
        "#on va afficher les 100 premières valeurs (sur 488841) et la valeur bruitée\n",
        "X=[i for i in range(0,100)]\n",
        "Y=df['income-numerical']\n",
        "Z=df['income_dp']\n",
        "W=df['Laplace_bruit']\n",
        "Y=Y[0:100]\n",
        "Z=Z[0:100]\n",
        "W=W[0:100]\n",
        "\n",
        "\n",
        "plt.figure()\n",
        "plt.plot(X,Y, c='red', label='revenu')\n",
        "plt.legend()\n",
        "\n",
        "\n"
      ]
    },
    {
      "cell_type": "code",
      "execution_count": 42,
      "metadata": {
        "colab": {
          "base_uri": "https://localhost:8080/",
          "height": 285
        },
        "id": "pqkjPw2C8jMJ",
        "outputId": "6909c44d-1c35-47ea-fe75-10bb2da3da59"
      },
      "outputs": [
        {
          "data": {
            "text/plain": [
              "<matplotlib.legend.Legend at 0x7f298a5b2d10>"
            ]
          },
          "execution_count": 42,
          "metadata": {},
          "output_type": "execute_result"
        },
        {
          "data": {
            "image/png": "[encoded data removed]",
            "text/plain": [
              "<Figure size 432x288 with 1 Axes>"
            ]
          },
          "metadata": {
            "needs_background": "light"
          },
          "output_type": "display_data"
        }
      ],
      "source": [
        "\n",
        "plt.plot(X,Z,c='blue', label='revenu avec le bruit')\n",
        "plt.legend()\n"
      ]
    },
    {
      "cell_type": "code",
      "execution_count": 43,
      "metadata": {
        "colab": {
          "base_uri": "https://localhost:8080/",
          "height": 282
        },
        "id": "pkxWCA868c_L",
        "outputId": "b5d8c6f3-0b5e-486a-f41d-637b88ebba37"
      },
      "outputs": [
        {
          "data": {
            "text/plain": [
              "<matplotlib.legend.Legend at 0x7f298c2eb650>"
            ]
          },
          "execution_count": 43,
          "metadata": {},
          "output_type": "execute_result"
        },
        {
          "data": {
            "image/png": "[encoded data removed]",
            "text/plain": [
              "<Figure size 432x288 with 1 Axes>"
            ]
          },
          "metadata": {
            "needs_background": "light"
          },
          "output_type": "display_data"
        }
      ],
      "source": [
        "\n",
        "plt.plot(X,W,c='black', label='le bruit \"tout seul\"')\n",
        "plt.legend()"
      ]
    },
    {
      "cell_type": "markdown",
      "metadata": {
        "id": "yHbLPpxzest1"
      },
      "source": [
        "\n",
        "Les deux premières courbes représentent le revenu et le revenu contenant le bruit Dans la troisième courbe on retrouve le bruit isolé. Les valeurs du range sont constants et indépendants du point de départ.  "
      ]
    }
  ],
  "metadata": {
    "colab": {
      "collapsed_sections": [
        "jAwYtowosaFH",
        "txoxnlm9saFL"
      ],
      "provenance": []
    },
    "kernelspec": {
      "display_name": "Python 3",
      "language": "python",
      "name": "python3"
    },
    "language_info": {
      "codemirror_mode": {
        "name": "ipython",
        "version": 3
      },
      "file_extension": ".py",
      "mimetype": "text/x-python",
      "name": "python",
      "nbconvert_exporter": "python",
      "pygments_lexer": "ipython3",
      "version": "3.7.4"
    }
  },
  "nbformat": 4,
  "nbformat_minor": 0
}
