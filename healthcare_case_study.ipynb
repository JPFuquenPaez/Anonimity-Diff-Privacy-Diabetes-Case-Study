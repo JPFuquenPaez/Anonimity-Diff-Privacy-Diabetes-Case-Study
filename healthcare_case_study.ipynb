{
  "cells": [
    {
      "cell_type": "markdown",
      "metadata": {
        "id": "hjlreHhIGmTx"
      },
      "source": [
        "# Case Study - Health Care dataset\n",
        "\n",
        "In this notebook, we'll explore the possibilties for data privacy on a new dataset.\n",
        "Your challenge is that you are working with a health care provider, who would like to do the \"machine learning\" on this dataset to figure out if there are preventative measures that can be taken so fewer patients are seen in the hospital for related care or so that their visits are shorter, to do so you might want to predict the **has_diabetes** according to the features at hand. The goal is that more potentially affected patients are given access to primary care physicians and regular medication or visits that can keep them out of the hostpital for long stays."
      ]
    },
    {
      "cell_type": "markdown",
      "metadata": {
        "id": "MGPIcM6fGmTz"
      },
      "source": [
        "## Part One: Determining What's Useful and What's Sensitive\n",
        "\n",
        "- Data completeness\n",
        "- Potential sensitive columns\n",
        "- Potential useful features\n",
        "- What columns should we use? \n",
        "- Which ones should we remove?\n",
        "- Are there columns which we should protect but not remove? \n",
        "\n",
        "For each, we need some justification or thought!"
      ]
    },
    {
      "cell_type": "code",
      "execution_count": 66,
      "metadata": {
        "id": "yMGLgYx-GmT0"
      },
      "outputs": [],
      "source": [
        "%matplotlib inline\n",
        "import pandas as pd\n",
        "\n",
        "df = pd.read_csv('health_data.csv')"
      ]
    },
    {
      "cell_type": "code",
      "execution_count": 67,
      "metadata": {
        "colab": {
          "base_uri": "https://localhost:8080/"
        },
        "id": "jkvG_b0SGmT1",
        "outputId": "0345251a-fae1-4041-d825-80c02dac1e88"
      },
      "outputs": [
        {
          "output_type": "stream",
          "name": "stdout",
          "text": [
            "<class 'pandas.core.frame.DataFrame'>\n",
            "RangeIndex: 1000 entries, 0 to 999\n",
            "Data columns (total 18 columns):\n",
            " #   Column                 Non-Null Count  Dtype \n",
            "---  ------                 --------------  ----- \n",
            " 0   admitted_ts            1000 non-null   object\n",
            " 1   age                    1000 non-null   int64 \n",
            " 2   ambulance_call         1000 non-null   int64 \n",
            " 3   blood_sugar_reading    1000 non-null   int64 \n",
            " 4   days_since_last_visit  1000 non-null   int64 \n",
            " 5   has_diabetes           1000 non-null   int64 \n",
            " 6   hospital               1000 non-null   object\n",
            " 7   hours_hospitalized     1000 non-null   int64 \n",
            " 8   hydration_level        1000 non-null   int64 \n",
            " 9   id                     1000 non-null   int64 \n",
            " 10  insulin                1000 non-null   int64 \n",
            " 11  marital_status         1000 non-null   object\n",
            " 12  no_primary_dr          1000 non-null   bool  \n",
            " 13  patient_name           1000 non-null   object\n",
            " 14  private_insurance      1000 non-null   int64 \n",
            " 15  released_sameday       1000 non-null   int64 \n",
            " 16  ssn                    1000 non-null   object\n",
            " 17  symptom_code           1000 non-null   int64 \n",
            "dtypes: bool(1), int64(12), object(5)\n",
            "memory usage: 133.9+ KB\n",
            "corrlation                             age  ambulance_call  blood_sugar_reading  \\\n",
            "age                    1.000000       -0.039872            -0.093682   \n",
            "ambulance_call        -0.039872        1.000000             0.028701   \n",
            "blood_sugar_reading   -0.093682        0.028701             1.000000   \n",
            "days_since_last_visit -0.025325        0.000858             0.018231   \n",
            "has_diabetes          -0.004673        0.013858            -0.003593   \n",
            "hours_hospitalized     0.036598       -0.039157            -0.007363   \n",
            "hydration_level        0.013655        0.016497            -0.003371   \n",
            "id                    -0.031231        0.019323             0.039533   \n",
            "insulin                0.009212       -0.031877            -0.042906   \n",
            "no_primary_dr          0.001633        0.011651             0.073805   \n",
            "private_insurance      0.022074       -0.057674            -0.017256   \n",
            "released_sameday      -0.094541        0.044267             0.007559   \n",
            "symptom_code          -0.076882       -0.013384            -0.016850   \n",
            "\n",
            "                       days_since_last_visit  has_diabetes  \\\n",
            "age                                -0.025325     -0.004673   \n",
            "ambulance_call                      0.000858      0.013858   \n",
            "blood_sugar_reading                 0.018231     -0.003593   \n",
            "days_since_last_visit               1.000000      0.012534   \n",
            "has_diabetes                        0.012534      1.000000   \n",
            "hours_hospitalized                 -0.014628     -0.061627   \n",
            "hydration_level                     0.013325      0.063124   \n",
            "id                                 -0.016106     -0.015041   \n",
            "insulin                             0.044376      0.018726   \n",
            "no_primary_dr                       0.012869      0.069018   \n",
            "private_insurance                   0.021765     -0.070442   \n",
            "released_sameday                    0.000507      0.053818   \n",
            "symptom_code                        0.003319      0.000125   \n",
            "\n",
            "                       hours_hospitalized  hydration_level        id  \\\n",
            "age                              0.036598         0.013655 -0.031231   \n",
            "ambulance_call                  -0.039157         0.016497  0.019323   \n",
            "blood_sugar_reading             -0.007363        -0.003371  0.039533   \n",
            "days_since_last_visit           -0.014628         0.013325 -0.016106   \n",
            "has_diabetes                    -0.061627         0.063124 -0.015041   \n",
            "hours_hospitalized               1.000000        -0.054126  0.034839   \n",
            "hydration_level                 -0.054126         1.000000 -0.016986   \n",
            "id                               0.034839        -0.016986  1.000000   \n",
            "insulin                          0.096682        -0.008669 -0.007192   \n",
            "no_primary_dr                   -0.025929        -0.058305 -0.052594   \n",
            "private_insurance                0.006085        -0.027034  0.024074   \n",
            "released_sameday                -0.819888         0.018628 -0.004397   \n",
            "symptom_code                     0.002419        -0.014266  0.008632   \n",
            "\n",
            "                        insulin  no_primary_dr  private_insurance  \\\n",
            "age                    0.009212       0.001633           0.022074   \n",
            "ambulance_call        -0.031877       0.011651          -0.057674   \n",
            "blood_sugar_reading   -0.042906       0.073805          -0.017256   \n",
            "days_since_last_visit  0.044376       0.012869           0.021765   \n",
            "has_diabetes           0.018726       0.069018          -0.070442   \n",
            "hours_hospitalized     0.096682      -0.025929           0.006085   \n",
            "hydration_level       -0.008669      -0.058305          -0.027034   \n",
            "id                    -0.007192      -0.052594           0.024074   \n",
            "insulin                1.000000       0.035689          -0.034848   \n",
            "no_primary_dr          0.035689       1.000000          -0.453227   \n",
            "private_insurance     -0.034848      -0.453227           1.000000   \n",
            "released_sameday      -0.050896       0.039190           0.045434   \n",
            "symptom_code          -0.041733       0.023448           0.014997   \n",
            "\n",
            "                       released_sameday  symptom_code  \n",
            "age                           -0.094541     -0.076882  \n",
            "ambulance_call                 0.044267     -0.013384  \n",
            "blood_sugar_reading            0.007559     -0.016850  \n",
            "days_since_last_visit          0.000507      0.003319  \n",
            "has_diabetes                   0.053818      0.000125  \n",
            "hours_hospitalized            -0.819888      0.002419  \n",
            "hydration_level                0.018628     -0.014266  \n",
            "id                            -0.004397      0.008632  \n",
            "insulin                       -0.050896     -0.041733  \n",
            "no_primary_dr                  0.039190      0.023448  \n",
            "private_insurance              0.045434      0.014997  \n",
            "released_sameday               1.000000      0.020657  \n",
            "symptom_code                   0.020657      1.000000  \n"
          ]
        }
      ],
      "source": [
        "df.head()\n",
        "\n",
        "#look into our data\n",
        "df.info()\n",
        "\n",
        "# check correlationtins\n",
        "corr = df.corr()\n",
        "print(\"corrlation\", corr)"
      ]
    },
    {
      "cell_type": "code",
      "source": [
        "#Let'see look into the correlations\n",
        "# the brighter the more correlations\n",
        "\n",
        "!pip install seaborn\n",
        "import seaborn as sns\n",
        "\n",
        "sns.heatmap(corr, \n",
        "         xticklabels=corr.columns, \n",
        "         yticklabels=corr.columns)"
      ],
      "metadata": {
        "colab": {
          "base_uri": "https://localhost:8080/",
          "height": 626
        },
        "id": "ltXFiJLn3047",
        "outputId": "18e1172c-edb5-42f9-fab1-477f57bc0242"
      },
      "execution_count": 68,
      "outputs": [
        {
          "output_type": "stream",
          "name": "stdout",
          "text": [
            "Looking in indexes: https://pypi.org/simple, https://us-python.pkg.dev/colab-wheels/public/simple/\n",
            "Requirement already satisfied: seaborn in /usr/local/lib/python3.7/dist-packages (0.11.2)\n",
            "Requirement already satisfied: numpy>=1.15 in /usr/local/lib/python3.7/dist-packages (from seaborn) (1.21.6)\n",
            "Requirement already satisfied: matplotlib>=2.2 in /usr/local/lib/python3.7/dist-packages (from seaborn) (3.2.2)\n",
            "Requirement already satisfied: scipy>=1.0 in /usr/local/lib/python3.7/dist-packages (from seaborn) (1.7.3)\n",
            "Requirement already satisfied: pandas>=0.23 in /usr/local/lib/python3.7/dist-packages (from seaborn) (1.3.5)\n",
            "Requirement already satisfied: python-dateutil>=2.1 in /usr/local/lib/python3.7/dist-packages (from matplotlib>=2.2->seaborn) (2.8.2)\n",
            "Requirement already satisfied: pyparsing!=2.0.4,!=2.1.2,!=2.1.6,>=2.0.1 in /usr/local/lib/python3.7/dist-packages (from matplotlib>=2.2->seaborn) (3.0.9)\n",
            "Requirement already satisfied: kiwisolver>=1.0.1 in /usr/local/lib/python3.7/dist-packages (from matplotlib>=2.2->seaborn) (1.4.4)\n",
            "Requirement already satisfied: cycler>=0.10 in /usr/local/lib/python3.7/dist-packages (from matplotlib>=2.2->seaborn) (0.11.0)\n",
            "Requirement already satisfied: typing-extensions in /usr/local/lib/python3.7/dist-packages (from kiwisolver>=1.0.1->matplotlib>=2.2->seaborn) (4.1.1)\n",
            "Requirement already satisfied: pytz>=2017.3 in /usr/local/lib/python3.7/dist-packages (from pandas>=0.23->seaborn) (2022.6)\n",
            "Requirement already satisfied: six>=1.5 in /usr/local/lib/python3.7/dist-packages (from python-dateutil>=2.1->matplotlib>=2.2->seaborn) (1.15.0)\n"
          ]
        },
        {
          "output_type": "execute_result",
          "data": {
            "text/plain": [
              "<matplotlib.axes._subplots.AxesSubplot at 0x7f1626e2a150>"
            ]
          },
          "metadata": {},
          "execution_count": 68
        },
        {
          "output_type": "display_data",
          "data": {
            "text/plain": [
              "<Figure size 432x288 with 2 Axes>"
            ],
            "image/png": "[encoded data removed]"
          },
          "metadata": {
            "needs_background": "light"
          }
        }
      ]
    },
    {
      "cell_type": "markdown",
      "source": [
        "We can notice already some correlated fields with \"released_sameday\", hours_hospitalized, no_primary_dr, private_insurance, insuline, age, released the same day, blood sugar reading, has diabetes, hydratation level, that are  useful fields\n",
        "\n",
        "The name of the patient must me removed\n",
        "\n",
        "The sensitive data are\n",
        "those that can provide indirectly information about the patient\n",
        "\n"
      ],
      "metadata": {
        "id": "Gwqc5c-q9re_"
      }
    },
    {
      "cell_type": "code",
      "source": [
        "# we can normalize the data for machine learning usage"
      ],
      "metadata": {
        "id": "yC3ky1ZoBaVj"
      },
      "execution_count": 6,
      "outputs": []
    },
    {
      "cell_type": "markdown",
      "metadata": {
        "id": "LkXOSrN6GmT1"
      },
      "source": [
        "## Part Two: Determining the Approach for Protecting the Columns\n",
        "\n",
        "You are the database manager at the health care provider asked to prepare the data to send to a machine learning consultant who will help give you a more detailed analysis. The consultant has signed all the necessary NDAs, but you have instructions to keep the private or potentially sensitive data to a minimum.\n",
        "\n",
        "Based on the scenario and what you learned\n",
        "\n",
        "- What methods will be most effective? \n",
        "- Have you considered potential data leakage within the *non-sensitive* columns?\n",
        "- Is there other sensitive or secret data we should address?"
      ]
    },
    {
      "cell_type": "markdown",
      "source": [],
      "metadata": {
        "id": "k_ande4X8Rmv"
      }
    },
    {
      "cell_type": "code",
      "execution_count": null,
      "metadata": {
        "id": "8pv5Y-1OGmT1"
      },
      "outputs": [],
      "source": []
    },
    {
      "cell_type": "markdown",
      "metadata": {
        "id": "Rw48MrozGmT2"
      },
      "source": [
        "## Part Three: Implement Data Protection for the Dataset\n",
        "\n",
        "Now it's time to code! Feel free to utilize code from the previous notebooks to implement protection of at least two of the columns you chose as sensitive. \n",
        "\n",
        "- What was difficult to decide and implement?\n",
        "- How might this relate to real problems in machine learning with sensitive data? \n",
        "\n"
      ]
    },
    {
      "cell_type": "code",
      "execution_count": 7,
      "metadata": {
        "id": "UT24wvJQGmT2"
      },
      "outputs": [],
      "source": [
        "# it's diffcicult to chosse what  to protect. Amending the data with k-anonymous-closenes is not perfect and even with differential privacy may create some noise that will have an undetermined impact on learning quality.\n",
        "# it's also difficult to deduce which non sensitive data would lead an attacker to find out about sensitive one "
      ]
    },
    {
      "cell_type": "markdown",
      "metadata": {
        "id": "Vp96t-NRGmT2"
      },
      "source": [
        "## Bonus: machine learning from anonymized Dataset\n",
        "\n",
        "Build a model that predicts the the diabetes statue of a new patient based on the anonymized database from part three. Compare with non anonymized dataset. (try to get more than 0.65 accuracy)"
      ]
    },
    {
      "cell_type": "code",
      "execution_count": 91,
      "metadata": {
        "id": "xn8YvzpnGmT3"
      },
      "outputs": [],
      "source": [
        "import numpy as np\n",
        "#print(len(df))\n",
        "dfTrain = df[:848]\n",
        "dfTest = df[849:979]\n",
        "dfCheck = df[949:]\n",
        "\n",
        "\n",
        "\n",
        "testLabel = np.asarray(dfTest['has_diabetes'])\n",
        "trainLabel = np.asarray(dfTrain['has_diabetes'])\n",
        "trainData = dfTrain.drop(['has_diabetes','admitted_ts','hospital','marital_status','patient_name','ssn'], axis=1)\n",
        "#.drop('admitted_ts')\n",
        "testData = dfTest.drop(['has_diabetes','admitted_ts','hospital','marital_status','patient_name','ssn'], axis=1)\n",
        "\n",
        "\n",
        "#trainData=np.asarray(trainData.drop('admitted_ts')\n",
        "#testData =np.asarray(testData.drop('admitted_ts')\n",
        " "
      ]
    },
    {
      "cell_type": "code",
      "source": [
        "testData.head(5)"
      ],
      "metadata": {
        "colab": {
          "base_uri": "https://localhost:8080/",
          "height": 270
        },
        "id": "ViR6DpLlgVTW",
        "outputId": "079a9ace-489a-4a03-d0ee-b88dee274150"
      },
      "execution_count": 92,
      "outputs": [
        {
          "output_type": "execute_result",
          "data": {
            "text/plain": [
              "     age  ambulance_call  blood_sugar_reading  days_since_last_visit  \\\n",
              "849   33               0                  138                     96   \n",
              "850   16               0                  112                     27   \n",
              "851   42               0                  125                     91   \n",
              "852   53               1                   93                     29   \n",
              "853   79               1                  117                     57   \n",
              "\n",
              "     hours_hospitalized  hydration_level    id  insulin  no_primary_dr  \\\n",
              "849                   0                4  1849        0           True   \n",
              "850                  13                4  1850        1           True   \n",
              "851                  12                1  1851        0          False   \n",
              "852                   8                9  1852        1          False   \n",
              "853                  12                0  1853        1           True   \n",
              "\n",
              "     private_insurance  released_sameday  symptom_code  \n",
              "849                  0                 1             3  \n",
              "850                  0                 0             5  \n",
              "851                  1                 0             2  \n",
              "852                  0                 0             4  \n",
              "853                  0                 0             9  "
            ],
            "text/html": [
              "\n",
              "  <div id=\"df-6bb0de7a-3df2-49c5-97b5-b2d8a7695624\">\n",
              "    <div class=\"colab-df-container\">\n",
              "      <div>\n",
              "<style scoped>\n",
              "    .dataframe tbody tr th:only-of-type {\n",
              "        vertical-align: middle;\n",
              "    }\n",
              "\n",
              "    .dataframe tbody tr th {\n",
              "        vertical-align: top;\n",
              "    }\n",
              "\n",
              "    .dataframe thead th {\n",
              "        text-align: right;\n",
              "    }\n",
              "</style>\n",
              "<table border=\"1\" class=\"dataframe\">\n",
              "  <thead>\n",
              "    <tr style=\"text-align: right;\">\n",
              "      <th></th>\n",
              "      <th>age</th>\n",
              "      <th>ambulance_call</th>\n",
              "      <th>blood_sugar_reading</th>\n",
              "      <th>days_since_last_visit</th>\n",
              "      <th>hours_hospitalized</th>\n",
              "      <th>hydration_level</th>\n",
              "      <th>id</th>\n",
              "      <th>insulin</th>\n",
              "      <th>no_primary_dr</th>\n",
              "      <th>private_insurance</th>\n",
              "      <th>released_sameday</th>\n",
              "      <th>symptom_code</th>\n",
              "    </tr>\n",
              "  </thead>\n",
              "  <tbody>\n",
              "    <tr>\n",
              "      <th>849</th>\n",
              "      <td>33</td>\n",
              "      <td>0</td>\n",
              "      <td>138</td>\n",
              "      <td>96</td>\n",
              "      <td>0</td>\n",
              "      <td>4</td>\n",
              "      <td>1849</td>\n",
              "      <td>0</td>\n",
              "      <td>True</td>\n",
              "      <td>0</td>\n",
              "      <td>1</td>\n",
              "      <td>3</td>\n",
              "    </tr>\n",
              "    <tr>\n",
              "      <th>850</th>\n",
              "      <td>16</td>\n",
              "      <td>0</td>\n",
              "      <td>112</td>\n",
              "      <td>27</td>\n",
              "      <td>13</td>\n",
              "      <td>4</td>\n",
              "      <td>1850</td>\n",
              "      <td>1</td>\n",
              "      <td>True</td>\n",
              "      <td>0</td>\n",
              "      <td>0</td>\n",
              "      <td>5</td>\n",
              "    </tr>\n",
              "    <tr>\n",
              "      <th>851</th>\n",
              "      <td>42</td>\n",
              "      <td>0</td>\n",
              "      <td>125</td>\n",
              "      <td>91</td>\n",
              "      <td>12</td>\n",
              "      <td>1</td>\n",
              "      <td>1851</td>\n",
              "      <td>0</td>\n",
              "      <td>False</td>\n",
              "      <td>1</td>\n",
              "      <td>0</td>\n",
              "      <td>2</td>\n",
              "    </tr>\n",
              "    <tr>\n",
              "      <th>852</th>\n",
              "      <td>53</td>\n",
              "      <td>1</td>\n",
              "      <td>93</td>\n",
              "      <td>29</td>\n",
              "      <td>8</td>\n",
              "      <td>9</td>\n",
              "      <td>1852</td>\n",
              "      <td>1</td>\n",
              "      <td>False</td>\n",
              "      <td>0</td>\n",
              "      <td>0</td>\n",
              "      <td>4</td>\n",
              "    </tr>\n",
              "    <tr>\n",
              "      <th>853</th>\n",
              "      <td>79</td>\n",
              "      <td>1</td>\n",
              "      <td>117</td>\n",
              "      <td>57</td>\n",
              "      <td>12</td>\n",
              "      <td>0</td>\n",
              "      <td>1853</td>\n",
              "      <td>1</td>\n",
              "      <td>True</td>\n",
              "      <td>0</td>\n",
              "      <td>0</td>\n",
              "      <td>9</td>\n",
              "    </tr>\n",
              "  </tbody>\n",
              "</table>\n",
              "</div>\n",
              "      <button class=\"colab-df-convert\" onclick=\"convertToInteractive('df-6bb0de7a-3df2-49c5-97b5-b2d8a7695624')\"\n",
              "              title=\"Convert this dataframe to an interactive table.\"\n",
              "              style=\"display:none;\">\n",
              "        \n",
              "  <svg xmlns=\"http://www.w3.org/2000/svg\" height=\"24px\"viewBox=\"0 0 24 24\"\n",
              "       width=\"24px\">\n",
              "    <path d=\"M0 0h24v24H0V0z\" fill=\"none\"/>\n",
              "    <path d=\"M18.56 5.44l.94 2.06.94-2.06 2.06-.94-2.06-.94-.94-2.06-.94 2.06-2.06.94zm-11 1L8.5 8.5l.94-2.06 2.06-.94-2.06-.94L8.5 2.5l-.94 2.06-2.06.94zm10 10l.94 2.06.94-2.06 2.06-.94-2.06-.94-.94-2.06-.94 2.06-2.06.94z\"/><path d=\"M17.41 7.96l-1.37-1.37c-.4-.4-.92-.59-1.43-.59-.52 0-1.04.2-1.43.59L10.3 9.45l-7.72 7.72c-.78.78-.78 2.05 0 2.83L4 21.41c.39.39.9.59 1.41.59.51 0 1.02-.2 1.41-.59l7.78-7.78 2.81-2.81c.8-.78.8-2.07 0-2.86zM5.41 20L4 18.59l7.72-7.72 1.47 1.35L5.41 20z\"/>\n",
              "  </svg>\n",
              "      </button>\n",
              "      \n",
              "  <style>\n",
              "    .colab-df-container {\n",
              "      display:flex;\n",
              "      flex-wrap:wrap;\n",
              "      gap: 12px;\n",
              "    }\n",
              "\n",
              "    .colab-df-convert {\n",
              "      background-color: #E8F0FE;\n",
              "      border: none;\n",
              "      border-radius: 50%;\n",
              "      cursor: pointer;\n",
              "      display: none;\n",
              "      fill: #1967D2;\n",
              "      height: 32px;\n",
              "      padding: 0 0 0 0;\n",
              "      width: 32px;\n",
              "    }\n",
              "\n",
              "    .colab-df-convert:hover {\n",
              "      background-color: #E2EBFA;\n",
              "      box-shadow: 0px 1px 2px rgba(60, 64, 67, 0.3), 0px 1px 3px 1px rgba(60, 64, 67, 0.15);\n",
              "      fill: #174EA6;\n",
              "    }\n",
              "\n",
              "    [theme=dark] .colab-df-convert {\n",
              "      background-color: #3B4455;\n",
              "      fill: #D2E3FC;\n",
              "    }\n",
              "\n",
              "    [theme=dark] .colab-df-convert:hover {\n",
              "      background-color: #434B5C;\n",
              "      box-shadow: 0px 1px 3px 1px rgba(0, 0, 0, 0.15);\n",
              "      filter: drop-shadow(0px 1px 2px rgba(0, 0, 0, 0.3));\n",
              "      fill: #FFFFFF;\n",
              "    }\n",
              "  </style>\n",
              "\n",
              "      <script>\n",
              "        const buttonEl =\n",
              "          document.querySelector('#df-6bb0de7a-3df2-49c5-97b5-b2d8a7695624 button.colab-df-convert');\n",
              "        buttonEl.style.display =\n",
              "          google.colab.kernel.accessAllowed ? 'block' : 'none';\n",
              "\n",
              "        async function convertToInteractive(key) {\n",
              "          const element = document.querySelector('#df-6bb0de7a-3df2-49c5-97b5-b2d8a7695624');\n",
              "          const dataTable =\n",
              "            await google.colab.kernel.invokeFunction('convertToInteractive',\n",
              "                                                     [key], {});\n",
              "          if (!dataTable) return;\n",
              "\n",
              "          const docLinkHtml = 'Like what you see? Visit the ' +\n",
              "            '<a target=\"_blank\" href=https://colab.research.google.com/notebooks/data_table.ipynb>data table notebook</a>'\n",
              "            + ' to learn more about interactive tables.';\n",
              "          element.innerHTML = '';\n",
              "          dataTable['output_type'] = 'display_data';\n",
              "          await google.colab.output.renderOutput(dataTable, element);\n",
              "          const docLink = document.createElement('div');\n",
              "          docLink.innerHTML = docLinkHtml;\n",
              "          element.appendChild(docLink);\n",
              "        }\n",
              "      </script>\n",
              "    </div>\n",
              "  </div>\n",
              "  "
            ]
          },
          "metadata": {},
          "execution_count": 92
        }
      ]
    },
    {
      "cell_type": "code",
      "source": [
        "#Testons un apprentissage par regression logisitique de notre modèle initial\n",
        "\n",
        "import sklearn\n",
        "from sklearn.linear_model import LogisticRegression\n",
        "diabetesCheck = LogisticRegression()\n",
        "diabetesCheck.fit(trainData, trainLabel)\n",
        "\n",
        "\n",
        "\n",
        "accuracy = diabetesCheck.score(testData, testLabel)\n",
        "print(\"accuracy = \", accuracy * 100, \"%\")"
      ],
      "metadata": {
        "colab": {
          "base_uri": "https://localhost:8080/"
        },
        "id": "5JU1LhOjT7_e",
        "outputId": "4ffbd936-77e4-4784-8170-dd7771bd9a8d"
      },
      "execution_count": 95,
      "outputs": [
        {
          "output_type": "stream",
          "name": "stdout",
          "text": [
            "accuracy =  78.46153846153847 %\n"
          ]
        },
        {
          "output_type": "stream",
          "name": "stderr",
          "text": [
            "/usr/local/lib/python3.7/dist-packages/sklearn/linear_model/_logistic.py:818: ConvergenceWarning: lbfgs failed to converge (status=1):\n",
            "STOP: TOTAL NO. of ITERATIONS REACHED LIMIT.\n",
            "\n",
            "Increase the number of iterations (max_iter) or scale the data as shown in:\n",
            "    https://scikit-learn.org/stable/modules/preprocessing.html\n",
            "Please also refer to the documentation for alternative solver options:\n",
            "    https://scikit-learn.org/stable/modules/linear_model.html#logistic-regression\n",
            "  extra_warning_msg=_LOGISTIC_SOLVER_CONVERGENCE_MSG,\n"
          ]
        }
      ]
    }
  ],
  "metadata": {
    "kernelspec": {
      "display_name": "Python 3",
      "language": "python",
      "name": "python3"
    },
    "language_info": {
      "codemirror_mode": {
        "name": "ipython",
        "version": 3
      },
      "file_extension": ".py",
      "mimetype": "text/x-python",
      "name": "python",
      "nbconvert_exporter": "python",
      "pygments_lexer": "ipython3",
      "version": "3.7.4"
    },
    "colab": {
      "provenance": []
    }
  },
  "nbformat": 4,
  "nbformat_minor": 0
}